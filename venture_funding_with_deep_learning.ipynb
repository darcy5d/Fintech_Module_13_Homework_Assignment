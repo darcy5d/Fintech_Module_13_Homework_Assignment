{
 "cells": [
  {
   "cell_type": "markdown",
   "metadata": {},
   "source": [
    "# Venture Funding with Deep Learning\n",
    "\n",
    "You work as a risk management associate at Alphabet Soup, a venture capital firm. Alphabet Soup’s business team receives many funding applications from startups every day. This team has asked you to help them create a model that predicts whether applicants will be successful if funded by Alphabet Soup.\n",
    "\n",
    "The business team has given you a CSV containing more than 34,000 organizations that have received funding from Alphabet Soup over the years. With your knowledge of machine learning and neural networks, you decide to use the features in the provided dataset to create a binary classifier model that will predict whether an applicant will become a successful business. The CSV file contains a variety of information about these businesses, including whether or not they ultimately became successful.\n",
    "\n",
    "## Instructions:\n",
    "\n",
    "The steps for this challenge are broken out into the following sections:\n",
    "\n",
    "* Prepare the data for use on a neural network model.\n",
    "\n",
    "* Compile and evaluate a binary classification model using a neural network.\n",
    "\n",
    "* Optimize the neural network model.\n",
    "\n",
    "### Prepare the Data for Use on a Neural Network Model \n",
    "\n",
    "Using your knowledge of Pandas and scikit-learn’s `StandardScaler()`, preprocess the dataset so that you can use it to compile and evaluate the neural network model later.\n",
    "\n",
    "Open the starter code file, and complete the following data preparation steps:\n",
    "\n",
    "1. Read the `applicants_data.csv` file into a Pandas DataFrame. Review the DataFrame, looking for categorical variables that will need to be encoded, as well as columns that could eventually define your features and target variables.   \n",
    "\n",
    "2. Drop the “EIN” (Employer Identification Number) and “NAME” columns from the DataFrame, because they are not relevant to the binary classification model.\n",
    " \n",
    "3. Encode the dataset’s categorical variables using `OneHotEncoder`, and then place the encoded variables into a new DataFrame.\n",
    "\n",
    "4. Add the original DataFrame’s numerical variables to the DataFrame containing the encoded variables.\n",
    "\n",
    "> **Note** To complete this step, you will employ the Pandas `concat()` function that was introduced earlier in this course. \n",
    "\n",
    "5. Using the preprocessed data, create the features (`X`) and target (`y`) datasets. The target dataset should be defined by the preprocessed DataFrame column “IS_SUCCESSFUL”. The remaining columns should define the features dataset. \n",
    "\n",
    "6. Split the features and target sets into training and testing datasets.\n",
    "\n",
    "7. Use scikit-learn's `StandardScaler` to scale the features data.\n",
    "\n",
    "### Compile and Evaluate a Binary Classification Model Using a Neural Network\n",
    "\n",
    "Use your knowledge of TensorFlow to design a binary classification deep neural network model. This model should use the dataset’s features to predict whether an Alphabet Soup&ndash;funded startup will be successful based on the features in the dataset. Consider the number of inputs before determining the number of layers that your model will contain or the number of neurons on each layer. Then, compile and fit your model. Finally, evaluate your binary classification model to calculate the model’s loss and accuracy. \n",
    " \n",
    "To do so, complete the following steps:\n",
    "\n",
    "1. Create a deep neural network by assigning the number of input features, the number of layers, and the number of neurons on each layer using Tensorflow’s Keras.\n",
    "\n",
    "> **Hint** You can start with a two-layer deep neural network model that uses the `relu` activation function for both layers.\n",
    "\n",
    "2. Compile and fit the model using the `binary_crossentropy` loss function, the `adam` optimizer, and the `accuracy` evaluation metric.\n",
    "\n",
    "> **Hint** When fitting the model, start with a small number of epochs, such as 20, 50, or 100.\n",
    "\n",
    "3. Evaluate the model using the test data to determine the model’s loss and accuracy.\n",
    "\n",
    "4. Save and export your model to an HDF5 file, and name the file `AlphabetSoup.h5`. \n",
    "\n",
    "### Optimize the Neural Network Model\n",
    "\n",
    "Using your knowledge of TensorFlow and Keras, optimize your model to improve the model's accuracy. Even if you do not successfully achieve a better accuracy, you'll need to demonstrate at least two attempts to optimize the model. You can include these attempts in your existing notebook. Or, you can make copies of the starter notebook in the same folder, rename them, and code each model optimization in a new notebook. \n",
    "\n",
    "> **Note** You will not lose points if your model does not achieve a high accuracy, as long as you make at least two attempts to optimize the model.\n",
    "\n",
    "To do so, complete the following steps:\n",
    "\n",
    "1. Define at least three new deep neural network models (the original plus 2 optimization attempts). With each, try to improve on your first model’s predictive accuracy.\n",
    "\n",
    "> **Rewind** Recall that perfect accuracy has a value of 1, so accuracy improves as its value moves closer to 1. To optimize your model for a predictive accuracy as close to 1 as possible, you can use any or all of the following techniques:\n",
    ">\n",
    "> * Adjust the input data by dropping different features columns to ensure that no variables or outliers confuse the model.\n",
    ">\n",
    "> * Add more neurons (nodes) to a hidden layer.\n",
    ">\n",
    "> * Add more hidden layers.\n",
    ">\n",
    "> * Use different activation functions for the hidden layers.\n",
    ">\n",
    "> * Add to or reduce the number of epochs in the training regimen.\n",
    "\n",
    "2. After finishing your models, display the accuracy scores achieved by each model, and compare the results.\n",
    "\n",
    "3. Save each of your models as an HDF5 file.\n"
   ]
  },
  {
   "cell_type": "code",
   "execution_count": 1,
   "metadata": {},
   "outputs": [],
   "source": [
    "# Imports\n",
    "\n",
    "#Data handling\n",
    "import pandas as pd\n",
    "from pathlib import Path\n",
    "\n",
    "import numpy as np\n",
    "from imblearn.over_sampling import SMOTE\n",
    "import os\n",
    "\n",
    "#Data visualisation\n",
    "import matplotlib.pyplot as plt\n",
    "import seaborn as sns\n",
    "\n",
    "#TensorFlow and Keras for neural networks\n",
    "import tensorflow as tf\n",
    "from tensorflow.keras.layers import Dense\n",
    "from tensorflow.keras.models import Sequential\n",
    "from tensorflow.keras.models import save_model\n",
    "from tensorflow.keras.layers import Dropout\n",
    "from tensorflow.keras.regularizers import l1, l2\n",
    "\n",
    "\n",
    "#Scikit-Learn for data preprocessing and splitting\n",
    "from sklearn.model_selection import train_test_split\n",
    "from sklearn.preprocessing import StandardScaler,OneHotEncoder\n",
    "from sklearn.utils import resample\n",
    "from sklearn.metrics import accuracy_score\n"
   ]
  },
  {
   "cell_type": "markdown",
   "metadata": {},
   "source": [
    "---\n",
    "\n",
    "## Prepare the data to be used on a neural network model"
   ]
  },
  {
   "cell_type": "markdown",
   "metadata": {},
   "source": [
    "### Step 1: Read the `applicants_data.csv` file into a Pandas DataFrame. Review the DataFrame, looking for categorical variables that will need to be encoded, as well as columns that could eventually define your features and target variables.  \n"
   ]
  },
  {
   "cell_type": "code",
   "execution_count": 2,
   "metadata": {},
   "outputs": [
    {
     "name": "stdout",
     "output_type": "stream",
     "text": [
      "        EIN                                      NAME APPLICATION_TYPE  \\\n",
      "0  10520599              BLUE KNIGHTS MOTORCYCLE CLUB              T10   \n",
      "1  10531628    AMERICAN CHESAPEAKE CLUB CHARITABLE TR               T3   \n",
      "2  10547893        ST CLOUD PROFESSIONAL FIREFIGHTERS               T5   \n",
      "3  10553066            SOUTHSIDE ATHLETIC ASSOCIATION               T3   \n",
      "4  10556103  GENETIC RESEARCH INSTITUTE OF THE DESERT               T3   \n",
      "\n",
      "        AFFILIATION CLASSIFICATION      USE_CASE  ORGANIZATION  STATUS  \\\n",
      "0       Independent          C1000    ProductDev   Association       1   \n",
      "1       Independent          C2000  Preservation  Co-operative       1   \n",
      "2  CompanySponsored          C3000    ProductDev   Association       1   \n",
      "3  CompanySponsored          C2000  Preservation         Trust       1   \n",
      "4       Independent          C1000     Heathcare         Trust       1   \n",
      "\n",
      "      INCOME_AMT SPECIAL_CONSIDERATIONS  ASK_AMT  IS_SUCCESSFUL  \n",
      "0              0                      N     5000              1  \n",
      "1         1-9999                      N   108590              1  \n",
      "2              0                      N     5000              0  \n",
      "3    10000-24999                      N     6692              1  \n",
      "4  100000-499999                      N   142590              1  \n"
     ]
    }
   ],
   "source": [
    "# Read the applicants_data.csv file from the Resources folder into a Pandas DataFrame\n",
    "\n",
    "csv_data = Path(\"./Resources/applicants_data.csv\")\n",
    "\n",
    "applicant_data_df = pd.read_csv(csv_data)\n",
    "\n",
    "# Review the DataFrame\n",
    "print(applicant_data_df.head())\n"
   ]
  },
  {
   "cell_type": "code",
   "execution_count": 3,
   "metadata": {},
   "outputs": [
    {
     "name": "stdout",
     "output_type": "stream",
     "text": [
      "<class 'pandas.core.frame.DataFrame'>\n",
      "RangeIndex: 34299 entries, 0 to 34298\n",
      "Data columns (total 12 columns):\n",
      " #   Column                  Non-Null Count  Dtype \n",
      "---  ------                  --------------  ----- \n",
      " 0   EIN                     34299 non-null  int64 \n",
      " 1   NAME                    34299 non-null  object\n",
      " 2   APPLICATION_TYPE        34299 non-null  object\n",
      " 3   AFFILIATION             34299 non-null  object\n",
      " 4   CLASSIFICATION          34299 non-null  object\n",
      " 5   USE_CASE                34299 non-null  object\n",
      " 6   ORGANIZATION            34299 non-null  object\n",
      " 7   STATUS                  34299 non-null  int64 \n",
      " 8   INCOME_AMT              34299 non-null  object\n",
      " 9   SPECIAL_CONSIDERATIONS  34299 non-null  object\n",
      " 10  ASK_AMT                 34299 non-null  int64 \n",
      " 11  IS_SUCCESSFUL           34299 non-null  int64 \n",
      "dtypes: int64(4), object(8)\n",
      "memory usage: 3.1+ MB\n",
      "None\n"
     ]
    }
   ],
   "source": [
    "# Review the data types associated with the columns\n",
    "print(applicant_data_df.info())\n"
   ]
  },
  {
   "cell_type": "markdown",
   "metadata": {},
   "source": [
    "### Step 2: Drop the “EIN” (Employer Identification Number) and “NAME” columns from the DataFrame, because they are not relevant to the binary classification model."
   ]
  },
  {
   "cell_type": "code",
   "execution_count": 4,
   "metadata": {},
   "outputs": [
    {
     "name": "stdout",
     "output_type": "stream",
     "text": [
      "  APPLICATION_TYPE       AFFILIATION CLASSIFICATION      USE_CASE  \\\n",
      "0              T10       Independent          C1000    ProductDev   \n",
      "1               T3       Independent          C2000  Preservation   \n",
      "2               T5  CompanySponsored          C3000    ProductDev   \n",
      "3               T3  CompanySponsored          C2000  Preservation   \n",
      "4               T3       Independent          C1000     Heathcare   \n",
      "\n",
      "   ORGANIZATION  STATUS     INCOME_AMT SPECIAL_CONSIDERATIONS  ASK_AMT  \\\n",
      "0   Association       1              0                      N     5000   \n",
      "1  Co-operative       1         1-9999                      N   108590   \n",
      "2   Association       1              0                      N     5000   \n",
      "3         Trust       1    10000-24999                      N     6692   \n",
      "4         Trust       1  100000-499999                      N   142590   \n",
      "\n",
      "   IS_SUCCESSFUL  \n",
      "0              1  \n",
      "1              1  \n",
      "2              0  \n",
      "3              1  \n",
      "4              1  \n"
     ]
    }
   ],
   "source": [
    "# Drop the 'EIN' and 'NAME' columns from the DataFrame\n",
    "applicant_data_df = applicant_data_df.drop(columns=[\"EIN\", \"NAME\"])\n",
    "\n",
    "# Review the DataFrame\n",
    "print(applicant_data_df.head())\n"
   ]
  },
  {
   "cell_type": "code",
   "execution_count": 5,
   "metadata": {},
   "outputs": [
    {
     "name": "stdout",
     "output_type": "stream",
     "text": [
      "\n",
      " APPLICATION_TYPE: 17 unique values.\n",
      "\n",
      " AFFILIATION: 6 unique values.\n",
      "\n",
      " CLASSIFICATION: 71 unique values.\n",
      "\n",
      " USE_CASE: 5 unique values.\n",
      "\n",
      " ORGANIZATION: 4 unique values.\n",
      "\n",
      " INCOME_AMT: 9 unique values.\n",
      "\n",
      " SPECIAL_CONSIDERATIONS: 2 unique values.\n"
     ]
    }
   ],
   "source": [
    "# Find out the number of unique values for each column\n",
    "for column in applicant_data_df.select_dtypes(include=['object']).columns:\n",
    "    print(\"\\n\",f\"{column}: {applicant_data_df[column].nunique()} unique values.\")\n"
   ]
  },
  {
   "cell_type": "markdown",
   "metadata": {},
   "source": [
    "### Step 3: Encode the dataset’s categorical variables using `OneHotEncoder`, and then place the encoded variables into a new DataFrame."
   ]
  },
  {
   "cell_type": "code",
   "execution_count": 6,
   "metadata": {},
   "outputs": [
    {
     "name": "stdout",
     "output_type": "stream",
     "text": [
      "['APPLICATION_TYPE', 'AFFILIATION', 'CLASSIFICATION', 'USE_CASE', 'ORGANIZATION', 'INCOME_AMT', 'SPECIAL_CONSIDERATIONS']\n"
     ]
    }
   ],
   "source": [
    "# Create a list of categorical variables \n",
    "categorical_variables = [\"APPLICATION_TYPE\", \"AFFILIATION\", \"CLASSIFICATION\", \"USE_CASE\",\n",
    "                         \"ORGANIZATION\", \"INCOME_AMT\", \"SPECIAL_CONSIDERATIONS\"]\n",
    "                         \n",
    "# Display the categorical variables list\n",
    "print(categorical_variables)\n"
   ]
  },
  {
   "cell_type": "code",
   "execution_count": 7,
   "metadata": {},
   "outputs": [],
   "source": [
    "# Create a OneHotEncoder instance\n",
    "enc = OneHotEncoder(sparse_output=False)\n"
   ]
  },
  {
   "cell_type": "code",
   "execution_count": 8,
   "metadata": {},
   "outputs": [],
   "source": [
    "# Encode the categorcal variables using OneHotEncoder\n",
    "\n",
    "##We are making a new dataframe with the column names of categorical variables from the applicant data DF.\n",
    "##Then OneHotEncoder is doign a job blasting out the dataframe with the dummy variables\n",
    "\n",
    "encoded_data = enc.fit_transform(applicant_data_df[categorical_variables])\n"
   ]
  },
  {
   "cell_type": "code",
   "execution_count": 9,
   "metadata": {},
   "outputs": [
    {
     "name": "stdout",
     "output_type": "stream",
     "text": [
      "   APPLICATION_TYPE_T10  APPLICATION_TYPE_T12  APPLICATION_TYPE_T13  \\\n",
      "0                     1                     0                     0   \n",
      "1                     0                     0                     0   \n",
      "2                     0                     0                     0   \n",
      "3                     0                     0                     0   \n",
      "4                     0                     0                     0   \n",
      "\n",
      "   APPLICATION_TYPE_T14  APPLICATION_TYPE_T15  APPLICATION_TYPE_T17  \\\n",
      "0                     0                     0                     0   \n",
      "1                     0                     0                     0   \n",
      "2                     0                     0                     0   \n",
      "3                     0                     0                     0   \n",
      "4                     0                     0                     0   \n",
      "\n",
      "   APPLICATION_TYPE_T19  APPLICATION_TYPE_T2  APPLICATION_TYPE_T25  \\\n",
      "0                     0                    0                     0   \n",
      "1                     0                    0                     0   \n",
      "2                     0                    0                     0   \n",
      "3                     0                    0                     0   \n",
      "4                     0                    0                     0   \n",
      "\n",
      "   APPLICATION_TYPE_T29  ...  INCOME_AMT_1-9999  INCOME_AMT_10000-24999  \\\n",
      "0                     0  ...                  0                       0   \n",
      "1                     0  ...                  1                       0   \n",
      "2                     0  ...                  0                       0   \n",
      "3                     0  ...                  0                       1   \n",
      "4                     0  ...                  0                       0   \n",
      "\n",
      "   INCOME_AMT_100000-499999  INCOME_AMT_10M-50M  INCOME_AMT_1M-5M  \\\n",
      "0                         0                   0                 0   \n",
      "1                         0                   0                 0   \n",
      "2                         0                   0                 0   \n",
      "3                         0                   0                 0   \n",
      "4                         1                   0                 0   \n",
      "\n",
      "   INCOME_AMT_25000-99999  INCOME_AMT_50M+  INCOME_AMT_5M-10M  \\\n",
      "0                       0                0                  0   \n",
      "1                       0                0                  0   \n",
      "2                       0                0                  0   \n",
      "3                       0                0                  0   \n",
      "4                       0                0                  0   \n",
      "\n",
      "   SPECIAL_CONSIDERATIONS_N  SPECIAL_CONSIDERATIONS_Y  \n",
      "0                         1                         0  \n",
      "1                         1                         0  \n",
      "2                         1                         0  \n",
      "3                         1                         0  \n",
      "4                         1                         0  \n",
      "\n",
      "[5 rows x 114 columns]\n"
     ]
    }
   ],
   "source": [
    "# Create a DataFrame with the encoded variables\n",
    "## Using int8 to save memory\n",
    "\n",
    "encoded_df = pd.DataFrame(\n",
    "    encoded_data,\n",
    "    columns=enc.get_feature_names_out(categorical_variables)\n",
    ").astype(np.int8)\n",
    "\n",
    "# Review the DataFrame\n",
    "print(encoded_df.head())"
   ]
  },
  {
   "cell_type": "markdown",
   "metadata": {},
   "source": [
    "### Step 4: Add the original DataFrame’s numerical variables to the DataFrame containing the encoded variables.\n",
    "\n",
    "> **Note** To complete this step, you will employ the Pandas `concat()` function that was introduced earlier in this course. "
   ]
  },
  {
   "cell_type": "code",
   "execution_count": 10,
   "metadata": {},
   "outputs": [
    {
     "name": "stdout",
     "output_type": "stream",
     "text": [
      "   STATUS  ASK_AMT  IS_SUCCESSFUL  APPLICATION_TYPE_T10  APPLICATION_TYPE_T12  \\\n",
      "0       1     5000              1                     1                     0   \n",
      "1       1   108590              1                     0                     0   \n",
      "2       1     5000              0                     0                     0   \n",
      "3       1     6692              1                     0                     0   \n",
      "4       1   142590              1                     0                     0   \n",
      "\n",
      "   APPLICATION_TYPE_T13  APPLICATION_TYPE_T14  APPLICATION_TYPE_T15  \\\n",
      "0                     0                     0                     0   \n",
      "1                     0                     0                     0   \n",
      "2                     0                     0                     0   \n",
      "3                     0                     0                     0   \n",
      "4                     0                     0                     0   \n",
      "\n",
      "   APPLICATION_TYPE_T17  APPLICATION_TYPE_T19  ...  INCOME_AMT_1-9999  \\\n",
      "0                     0                     0  ...                  0   \n",
      "1                     0                     0  ...                  1   \n",
      "2                     0                     0  ...                  0   \n",
      "3                     0                     0  ...                  0   \n",
      "4                     0                     0  ...                  0   \n",
      "\n",
      "   INCOME_AMT_10000-24999  INCOME_AMT_100000-499999  INCOME_AMT_10M-50M  \\\n",
      "0                       0                         0                   0   \n",
      "1                       0                         0                   0   \n",
      "2                       0                         0                   0   \n",
      "3                       1                         0                   0   \n",
      "4                       0                         1                   0   \n",
      "\n",
      "   INCOME_AMT_1M-5M  INCOME_AMT_25000-99999  INCOME_AMT_50M+  \\\n",
      "0                 0                       0                0   \n",
      "1                 0                       0                0   \n",
      "2                 0                       0                0   \n",
      "3                 0                       0                0   \n",
      "4                 0                       0                0   \n",
      "\n",
      "   INCOME_AMT_5M-10M  SPECIAL_CONSIDERATIONS_N  SPECIAL_CONSIDERATIONS_Y  \n",
      "0                  0                         1                         0  \n",
      "1                  0                         1                         0  \n",
      "2                  0                         1                         0  \n",
      "3                  0                         1                         0  \n",
      "4                  0                         1                         0  \n",
      "\n",
      "[5 rows x 117 columns]\n"
     ]
    }
   ],
   "source": [
    "# Add the numerical variables from the original DataFrame to the one-hot encoding DataFrame\n",
    "## drop columns that are already contained in categorical_variables DataFrame\n",
    "\n",
    "encoded_df = pd.concat(\n",
    "    [\n",
    "    applicant_data_df.drop(columns=categorical_variables),\n",
    "    encoded_df\n",
    "    ],\n",
    "    axis=1\n",
    ")\n",
    "\n",
    "# Review the Dataframe\n",
    "print(encoded_df.head())\n"
   ]
  },
  {
   "cell_type": "markdown",
   "metadata": {},
   "source": [
    "### Step 5: Using the preprocessed data, create the features (`X`) and target (`y`) datasets. The target dataset should be defined by the preprocessed DataFrame column “IS_SUCCESSFUL”. The remaining columns should define the features dataset. \n",
    "\n"
   ]
  },
  {
   "cell_type": "code",
   "execution_count": 11,
   "metadata": {},
   "outputs": [
    {
     "name": "stdout",
     "output_type": "stream",
     "text": [
      "0    1\n",
      "1    1\n",
      "2    0\n",
      "3    1\n",
      "4    1\n",
      "Name: IS_SUCCESSFUL, dtype: int64\n"
     ]
    }
   ],
   "source": [
    "# Define the target set y using the IS_SUCCESSFUL column\n",
    "y = encoded_df[\"IS_SUCCESSFUL\"]\n",
    "\n",
    "# Display a sample of y\n",
    "print(y.head())\n"
   ]
  },
  {
   "cell_type": "code",
   "execution_count": 12,
   "metadata": {},
   "outputs": [
    {
     "name": "stdout",
     "output_type": "stream",
     "text": [
      "<class 'pandas.core.frame.DataFrame'>\n",
      "RangeIndex: 34299 entries, 0 to 34298\n",
      "Columns: 116 entries, STATUS to SPECIAL_CONSIDERATIONS_Y\n",
      "dtypes: int64(2), int8(114)\n",
      "memory usage: 4.3 MB\n",
      "None\n"
     ]
    }
   ],
   "source": [
    "# Define features set X by selecting all columns but IS_SUCCESSFUL\n",
    "X = encoded_df.drop(columns=\"IS_SUCCESSFUL\")\n",
    "\n",
    "# Review the features DataFrame\n",
    "print(X.info())\n"
   ]
  },
  {
   "cell_type": "markdown",
   "metadata": {},
   "source": [
    "### Step 6: Split the features and target sets into training and testing datasets.\n"
   ]
  },
  {
   "cell_type": "code",
   "execution_count": 13,
   "metadata": {},
   "outputs": [],
   "source": [
    "# Split the preprocessed data into a training and testing dataset\n",
    "# Assign the function a random_state equal to 1\n",
    "X_train, X_test, y_train, y_test = train_test_split(X, y, random_state=1)\n"
   ]
  },
  {
   "cell_type": "markdown",
   "metadata": {},
   "source": [
    "### Step 7: Use scikit-learn's `StandardScaler` to scale the features data."
   ]
  },
  {
   "cell_type": "code",
   "execution_count": 14,
   "metadata": {},
   "outputs": [],
   "source": [
    "# Create a StandardScaler instance\n",
    "scaler = StandardScaler()\n",
    "\n",
    "# Fit the scaler to the features training dataset\n",
    "X_scaler = scaler.fit(X_train)\n",
    "\n",
    "# Fit the scaler to the features training dataset\n",
    "X_train_scaled = X_scaler.transform(X_train)\n",
    "X_test_scaled = X_scaler.transform(X_test)\n"
   ]
  },
  {
   "cell_type": "markdown",
   "metadata": {},
   "source": [
    "---\n",
    "\n",
    "## Compile and Evaluate a Binary Classification Model Using a Neural Network"
   ]
  },
  {
   "cell_type": "markdown",
   "metadata": {},
   "source": [
    "### Step 1: Create a deep neural network by assigning the number of input features, the number of layers, and the number of neurons on each layer using Tensorflow’s Keras.\n",
    "\n",
    "> **Hint** You can start with a two-layer deep neural network model that uses the `relu` activation function for both layers.\n"
   ]
  },
  {
   "cell_type": "code",
   "execution_count": 15,
   "metadata": {},
   "outputs": [
    {
     "name": "stdout",
     "output_type": "stream",
     "text": [
      "Number of input features: 116\n"
     ]
    }
   ],
   "source": [
    "# Define the the number of inputs (features) to the model\n",
    "\n",
    "## We just look at the 'X' matrix for this information\n",
    "\n",
    "number_input_features = X.shape[1]\n",
    "\n",
    "# Review the number of features\n",
    "print(f\"Number of input features: {number_input_features}\")\n"
   ]
  },
  {
   "cell_type": "code",
   "execution_count": 16,
   "metadata": {},
   "outputs": [],
   "source": [
    "# Define the number of neurons in the output layer\n",
    "## binary classification, so we want only a 1 or 0\n",
    "\n",
    "number_output_neurons = 1"
   ]
  },
  {
   "cell_type": "code",
   "execution_count": 17,
   "metadata": {},
   "outputs": [
    {
     "data": {
      "text/plain": [
       "77"
      ]
     },
     "execution_count": 17,
     "metadata": {},
     "output_type": "execute_result"
    }
   ],
   "source": [
    "## Using 2/3 rule as suggestion for number of hidden neurons..\n",
    "## Sandaya Krishnan, 'How do determine the number of layers and neurons in the hidden layer?', 09/09/2021\n",
    "## Link <https://medium.com/geekculture/introduction-to-neural-network-2f8b8221fbd3>\n",
    "\n",
    "# Define the number of hidden nodes for the first hidden layer\n",
    "hidden_nodes_layer1 =  (number_input_features * 2) // 3\n",
    "\n",
    "# Review the number hidden nodes in the first layer\n",
    "hidden_nodes_layer1\n"
   ]
  },
  {
   "cell_type": "code",
   "execution_count": 18,
   "metadata": {},
   "outputs": [
    {
     "data": {
      "text/plain": [
       "51"
      ]
     },
     "execution_count": 18,
     "metadata": {},
     "output_type": "execute_result"
    }
   ],
   "source": [
    "# Define the number of hidden nodes for the second hidden layer\n",
    "hidden_nodes_layer2 =  (hidden_nodes_layer1 * 2) // 3\n",
    "\n",
    "# Review the number hidden nodes in the second layer\n",
    "hidden_nodes_layer2\n"
   ]
  },
  {
   "cell_type": "code",
   "execution_count": 19,
   "metadata": {},
   "outputs": [],
   "source": [
    "# Create the Sequential model instance\n",
    "nn = Sequential()\n"
   ]
  },
  {
   "cell_type": "code",
   "execution_count": 20,
   "metadata": {},
   "outputs": [],
   "source": [
    "# Add the first hidden layer\n",
    "nn.add(Dense(\n",
    "    units=hidden_nodes_layer1,\n",
    "    input_dim=number_input_features,\n",
    "    activation=\"relu\"\n",
    "))\n"
   ]
  },
  {
   "cell_type": "code",
   "execution_count": 21,
   "metadata": {},
   "outputs": [],
   "source": [
    "# Add the second hidden layer\n",
    "nn.add(Dense(\n",
    "    units=hidden_nodes_layer2,\n",
    "    activation=\"relu\"\n",
    "))\n"
   ]
  },
  {
   "cell_type": "code",
   "execution_count": 22,
   "metadata": {},
   "outputs": [],
   "source": [
    "# Add the output layer to the model specifying the number of output neurons and activation function\n",
    "## we use the sigmoid function to squish everything to 0 or 1\n",
    "nn.add(Dense(\n",
    "    units=number_output_neurons,\n",
    "    activation=\"sigmoid\"\n",
    "))\n"
   ]
  },
  {
   "cell_type": "code",
   "execution_count": 23,
   "metadata": {},
   "outputs": [
    {
     "name": "stdout",
     "output_type": "stream",
     "text": [
      "Model: \"sequential\"\n",
      "_________________________________________________________________\n",
      " Layer (type)                Output Shape              Param #   \n",
      "=================================================================\n",
      " dense (Dense)               (None, 77)                9009      \n",
      "                                                                 \n",
      " dense_1 (Dense)             (None, 51)                3978      \n",
      "                                                                 \n",
      " dense_2 (Dense)             (None, 1)                 52        \n",
      "                                                                 \n",
      "=================================================================\n",
      "Total params: 13039 (50.93 KB)\n",
      "Trainable params: 13039 (50.93 KB)\n",
      "Non-trainable params: 0 (0.00 Byte)\n",
      "_________________________________________________________________\n",
      "None\n"
     ]
    }
   ],
   "source": [
    "# Display the Sequential model summary\n",
    "print(nn.summary())\n"
   ]
  },
  {
   "cell_type": "markdown",
   "metadata": {},
   "source": [
    "### Step 2: Compile and fit the model using the `binary_crossentropy` loss function, the `adam` optimizer, and the `accuracy` evaluation metric.\n"
   ]
  },
  {
   "cell_type": "code",
   "execution_count": 24,
   "metadata": {},
   "outputs": [],
   "source": [
    "# Compile the Sequential model\n",
    "nn.compile(\n",
    "    loss=\"binary_crossentropy\",\n",
    "    optimizer=\"adam\",\n",
    "    metrics=[\"accuracy\"]\n",
    ")\n"
   ]
  },
  {
   "cell_type": "code",
   "execution_count": 25,
   "metadata": {
    "scrolled": true
   },
   "outputs": [
    {
     "name": "stdout",
     "output_type": "stream",
     "text": [
      "Epoch 1/50\n",
      "804/804 [==============================] - 1s 470us/step - loss: 0.5708 - accuracy: 0.7199\n",
      "Epoch 2/50\n",
      "804/804 [==============================] - 0s 462us/step - loss: 0.5543 - accuracy: 0.7293\n",
      "Epoch 3/50\n",
      "804/804 [==============================] - 0s 469us/step - loss: 0.5487 - accuracy: 0.7305\n",
      "Epoch 4/50\n",
      "804/804 [==============================] - 0s 454us/step - loss: 0.5478 - accuracy: 0.7310\n",
      "Epoch 5/50\n",
      "804/804 [==============================] - 0s 459us/step - loss: 0.5460 - accuracy: 0.7336\n",
      "Epoch 6/50\n",
      "804/804 [==============================] - 0s 465us/step - loss: 0.5455 - accuracy: 0.7340\n",
      "Epoch 7/50\n",
      "804/804 [==============================] - 0s 456us/step - loss: 0.5437 - accuracy: 0.7343\n",
      "Epoch 8/50\n",
      "804/804 [==============================] - 0s 458us/step - loss: 0.5433 - accuracy: 0.7338\n",
      "Epoch 9/50\n",
      "804/804 [==============================] - 0s 454us/step - loss: 0.5422 - accuracy: 0.7338\n",
      "Epoch 10/50\n",
      "804/804 [==============================] - 0s 449us/step - loss: 0.5415 - accuracy: 0.7347\n",
      "Epoch 11/50\n",
      "804/804 [==============================] - 0s 459us/step - loss: 0.5412 - accuracy: 0.7360\n",
      "Epoch 12/50\n",
      "804/804 [==============================] - 0s 453us/step - loss: 0.5403 - accuracy: 0.7361\n",
      "Epoch 13/50\n",
      "804/804 [==============================] - 0s 454us/step - loss: 0.5396 - accuracy: 0.7360\n",
      "Epoch 14/50\n",
      "804/804 [==============================] - 0s 453us/step - loss: 0.5396 - accuracy: 0.7374\n",
      "Epoch 15/50\n",
      "804/804 [==============================] - 0s 453us/step - loss: 0.5387 - accuracy: 0.7373\n",
      "Epoch 16/50\n",
      "804/804 [==============================] - 0s 454us/step - loss: 0.5383 - accuracy: 0.7363\n",
      "Epoch 17/50\n",
      "804/804 [==============================] - 0s 453us/step - loss: 0.5385 - accuracy: 0.7376\n",
      "Epoch 18/50\n",
      "804/804 [==============================] - 0s 452us/step - loss: 0.5378 - accuracy: 0.7378\n",
      "Epoch 19/50\n",
      "804/804 [==============================] - 0s 451us/step - loss: 0.5378 - accuracy: 0.7379\n",
      "Epoch 20/50\n",
      "804/804 [==============================] - 0s 457us/step - loss: 0.5371 - accuracy: 0.7381\n",
      "Epoch 21/50\n",
      "804/804 [==============================] - 0s 459us/step - loss: 0.5367 - accuracy: 0.7385\n",
      "Epoch 22/50\n",
      "804/804 [==============================] - 0s 468us/step - loss: 0.5363 - accuracy: 0.7385\n",
      "Epoch 23/50\n",
      "804/804 [==============================] - 0s 454us/step - loss: 0.5356 - accuracy: 0.7390\n",
      "Epoch 24/50\n",
      "804/804 [==============================] - 0s 451us/step - loss: 0.5361 - accuracy: 0.7397\n",
      "Epoch 25/50\n",
      "804/804 [==============================] - 0s 454us/step - loss: 0.5353 - accuracy: 0.7386\n",
      "Epoch 26/50\n",
      "804/804 [==============================] - 0s 453us/step - loss: 0.5353 - accuracy: 0.7391\n",
      "Epoch 27/50\n",
      "804/804 [==============================] - 0s 452us/step - loss: 0.5352 - accuracy: 0.7396\n",
      "Epoch 28/50\n",
      "804/804 [==============================] - 0s 451us/step - loss: 0.5347 - accuracy: 0.7403\n",
      "Epoch 29/50\n",
      "804/804 [==============================] - 0s 456us/step - loss: 0.5349 - accuracy: 0.7406\n",
      "Epoch 30/50\n",
      "804/804 [==============================] - 0s 455us/step - loss: 0.5343 - accuracy: 0.7399\n",
      "Epoch 31/50\n",
      "804/804 [==============================] - 0s 451us/step - loss: 0.5340 - accuracy: 0.7387\n",
      "Epoch 32/50\n",
      "804/804 [==============================] - 0s 448us/step - loss: 0.5341 - accuracy: 0.7402\n",
      "Epoch 33/50\n",
      "804/804 [==============================] - 0s 454us/step - loss: 0.5338 - accuracy: 0.7404\n",
      "Epoch 34/50\n",
      "804/804 [==============================] - 0s 453us/step - loss: 0.5335 - accuracy: 0.7404\n",
      "Epoch 35/50\n",
      "804/804 [==============================] - 0s 447us/step - loss: 0.5334 - accuracy: 0.7395\n",
      "Epoch 36/50\n",
      "804/804 [==============================] - 0s 453us/step - loss: 0.5331 - accuracy: 0.7409\n",
      "Epoch 37/50\n",
      "804/804 [==============================] - 0s 450us/step - loss: 0.5332 - accuracy: 0.7407\n",
      "Epoch 38/50\n",
      "804/804 [==============================] - 0s 457us/step - loss: 0.5329 - accuracy: 0.7402\n",
      "Epoch 39/50\n",
      "804/804 [==============================] - 0s 454us/step - loss: 0.5329 - accuracy: 0.7406\n",
      "Epoch 40/50\n",
      "804/804 [==============================] - 0s 464us/step - loss: 0.5325 - accuracy: 0.7409\n",
      "Epoch 41/50\n",
      "804/804 [==============================] - 0s 456us/step - loss: 0.5327 - accuracy: 0.7409\n",
      "Epoch 42/50\n",
      "804/804 [==============================] - 0s 452us/step - loss: 0.5318 - accuracy: 0.7412\n",
      "Epoch 43/50\n",
      "804/804 [==============================] - 0s 454us/step - loss: 0.5318 - accuracy: 0.7414\n",
      "Epoch 44/50\n",
      "804/804 [==============================] - 0s 456us/step - loss: 0.5319 - accuracy: 0.7414\n",
      "Epoch 45/50\n",
      "804/804 [==============================] - 0s 457us/step - loss: 0.5316 - accuracy: 0.7407\n",
      "Epoch 46/50\n",
      "804/804 [==============================] - 0s 452us/step - loss: 0.5312 - accuracy: 0.7415\n",
      "Epoch 47/50\n",
      "804/804 [==============================] - 0s 452us/step - loss: 0.5308 - accuracy: 0.7405\n",
      "Epoch 48/50\n",
      "804/804 [==============================] - 0s 452us/step - loss: 0.5314 - accuracy: 0.7415\n",
      "Epoch 49/50\n",
      "804/804 [==============================] - 0s 455us/step - loss: 0.5314 - accuracy: 0.7414\n",
      "Epoch 50/50\n",
      "804/804 [==============================] - 0s 446us/step - loss: 0.5310 - accuracy: 0.7420\n"
     ]
    }
   ],
   "source": [
    "# Fit the model using 50 epochs and the training data\n",
    "history_original = nn.fit(\n",
    "    X_train_scaled,\n",
    "    y_train,\n",
    "    epochs=50\n",
    ")"
   ]
  },
  {
   "cell_type": "markdown",
   "metadata": {},
   "source": [
    "### Step 3: Evaluate the model using the test data to determine the model’s loss and accuracy.\n"
   ]
  },
  {
   "cell_type": "code",
   "execution_count": 26,
   "metadata": {},
   "outputs": [
    {
     "name": "stdout",
     "output_type": "stream",
     "text": [
      "268/268 - 0s - loss: 0.5567 - accuracy: 0.7308 - 113ms/epoch - 421us/step\n",
      "Loss: 0.556700587272644, Accuracy: 0.7308454513549805\n"
     ]
    }
   ],
   "source": [
    "# Evaluate the model loss and accuracy metrics using the evaluate method and the test data\n",
    "model_loss, model_accuracy = nn.evaluate(X_test_scaled, y_test, verbose=2)\n",
    "\n",
    "# Save the model loss and accuracy values as variables\n",
    "loss_original_model = model_loss\n",
    "accuracy_original_model = model_accuracy\n",
    "\n",
    "# Display the model loss and accuracy results\n",
    "print(f\"Loss: {loss_original_model}, Accuracy: {accuracy_original_model}\")\n"
   ]
  },
  {
   "cell_type": "markdown",
   "metadata": {},
   "source": [
    "### Step 4: Save and export your model to an HDF5 file, and name the file `AlphabetSoup.h5`. \n"
   ]
  },
  {
   "cell_type": "code",
   "execution_count": 27,
   "metadata": {},
   "outputs": [
    {
     "name": "stderr",
     "output_type": "stream",
     "text": [
      "/Users/darcy5d/miniforge3/envs/tensor/lib/python3.8/site-packages/keras/src/engine/training.py:3000: UserWarning: You are saving your model as an HDF5 file via `model.save()`. This file format is considered legacy. We recommend using instead the native Keras format, e.g. `model.save('my_model.keras')`.\n",
      "  saving_api.save_model(\n"
     ]
    }
   ],
   "source": [
    "# Set the model's file path\n",
    "\n",
    "model_locale_path = \"Model_Locale\"\n",
    "os.makedirs(model_locale_path, exist_ok=True)\n",
    "file_path = os.path.join(model_locale_path, \"AlphabetSoup.h5\")\n",
    "\n",
    "# Export your model to a HDF5 file\n",
    "nn.save(file_path)\n"
   ]
  },
  {
   "cell_type": "markdown",
   "metadata": {},
   "source": [
    "---\n",
    "\n",
    "## Optimize the neural network model\n"
   ]
  },
  {
   "cell_type": "markdown",
   "metadata": {},
   "source": [
    "### Step 1: Define at least three new deep neural network models (resulting in the original plus 3 optimization attempts). With each, try to improve on your first model’s predictive accuracy.\n",
    "\n",
    "> **Rewind** Recall that perfect accuracy has a value of 1, so accuracy improves as its value moves closer to 1. To optimize your model for a predictive accuracy as close to 1 as possible, you can use any or all of the following techniques:\n",
    ">\n",
    "> * Adjust the input data by dropping different features columns to ensure that no variables or outliers confuse the model.\n",
    ">\n",
    "> * Add more neurons (nodes) to a hidden layer.\n",
    ">\n",
    "> * Add more hidden layers.\n",
    ">\n",
    "> * Use different activation functions for the hidden layers.\n",
    ">\n",
    "> * Add to or reduce the number of epochs in the training regimen.\n"
   ]
  },
  {
   "cell_type": "markdown",
   "metadata": {},
   "source": [
    "### Alternative Model 1"
   ]
  },
  {
   "cell_type": "code",
   "execution_count": 28,
   "metadata": {},
   "outputs": [],
   "source": [
    "## Drop \"CLASSIFICATION\" and \"APPLICATION_TYPE\" from the already transformed applicant_data_df DataFrame\n",
    "## Keep 2 hidden layers\n",
    "## Stick to the 2/3 rule of thumnb\n",
    "## Keep 50 epochs\n",
    "\n",
    "applicant_data_df = applicant_data_df.drop(columns=[\"CLASSIFICATION\"])\n"
   ]
  },
  {
   "cell_type": "code",
   "execution_count": 29,
   "metadata": {},
   "outputs": [
    {
     "name": "stdout",
     "output_type": "stream",
     "text": [
      "\n",
      " APPLICATION_TYPE: 17 unique values.\n",
      "\n",
      " AFFILIATION: 6 unique values.\n",
      "\n",
      " USE_CASE: 5 unique values.\n",
      "\n",
      " ORGANIZATION: 4 unique values.\n",
      "\n",
      " INCOME_AMT: 9 unique values.\n",
      "\n",
      " SPECIAL_CONSIDERATIONS: 2 unique values.\n"
     ]
    }
   ],
   "source": [
    "# Find out the number of unique values for each column\n",
    "for column in applicant_data_df.select_dtypes(include=['object']).columns:\n",
    "    print(\"\\n\",f\"{column}: {applicant_data_df[column].nunique()} unique values.\")"
   ]
  },
  {
   "cell_type": "code",
   "execution_count": 30,
   "metadata": {},
   "outputs": [],
   "source": [
    "# Create a list of categorical variables \n",
    "categorical_variables_alt1 = [\"APPLICATION_TYPE\", \"AFFILIATION\", \"USE_CASE\",\n",
    "                         \"ORGANIZATION\", \"INCOME_AMT\", \"SPECIAL_CONSIDERATIONS\"]\n",
    "                         \n",
    "# Create a OneHotEncoder instance\n",
    "enc_alt1 = OneHotEncoder(sparse_output=False)\n",
    "\n",
    "encoded_data_alt1 = enc_alt1.fit_transform(applicant_data_df[categorical_variables_alt1])\n",
    "\n",
    "encoded_df_alt1 = pd.DataFrame(\n",
    "    encoded_data_alt1,\n",
    "    columns=enc_alt1.get_feature_names_out(categorical_variables_alt1)).astype(np.int8)\n",
    "\n",
    "\n"
   ]
  },
  {
   "cell_type": "code",
   "execution_count": 31,
   "metadata": {},
   "outputs": [],
   "source": [
    "encoded_df_alt1 = pd.concat(\n",
    "    [\n",
    "    applicant_data_df.drop(columns=categorical_variables_alt1),\n",
    "    encoded_df_alt1\n",
    "    ],\n",
    "    axis=1\n",
    ")"
   ]
  },
  {
   "cell_type": "code",
   "execution_count": 32,
   "metadata": {},
   "outputs": [
    {
     "data": {
      "text/plain": [
       "0        1\n",
       "1        1\n",
       "2        0\n",
       "3        1\n",
       "4        1\n",
       "        ..\n",
       "34294    0\n",
       "34295    0\n",
       "34296    0\n",
       "34297    1\n",
       "34298    0\n",
       "Name: IS_SUCCESSFUL, Length: 34299, dtype: int64"
      ]
     },
     "execution_count": 32,
     "metadata": {},
     "output_type": "execute_result"
    }
   ],
   "source": [
    "y"
   ]
  },
  {
   "cell_type": "code",
   "execution_count": 33,
   "metadata": {},
   "outputs": [
    {
     "name": "stdout",
     "output_type": "stream",
     "text": [
      "<class 'pandas.core.frame.DataFrame'>\n",
      "RangeIndex: 34299 entries, 0 to 34298\n",
      "Data columns (total 45 columns):\n",
      " #   Column                        Non-Null Count  Dtype\n",
      "---  ------                        --------------  -----\n",
      " 0   STATUS                        34299 non-null  int64\n",
      " 1   ASK_AMT                       34299 non-null  int64\n",
      " 2   APPLICATION_TYPE_T10          34299 non-null  int8 \n",
      " 3   APPLICATION_TYPE_T12          34299 non-null  int8 \n",
      " 4   APPLICATION_TYPE_T13          34299 non-null  int8 \n",
      " 5   APPLICATION_TYPE_T14          34299 non-null  int8 \n",
      " 6   APPLICATION_TYPE_T15          34299 non-null  int8 \n",
      " 7   APPLICATION_TYPE_T17          34299 non-null  int8 \n",
      " 8   APPLICATION_TYPE_T19          34299 non-null  int8 \n",
      " 9   APPLICATION_TYPE_T2           34299 non-null  int8 \n",
      " 10  APPLICATION_TYPE_T25          34299 non-null  int8 \n",
      " 11  APPLICATION_TYPE_T29          34299 non-null  int8 \n",
      " 12  APPLICATION_TYPE_T3           34299 non-null  int8 \n",
      " 13  APPLICATION_TYPE_T4           34299 non-null  int8 \n",
      " 14  APPLICATION_TYPE_T5           34299 non-null  int8 \n",
      " 15  APPLICATION_TYPE_T6           34299 non-null  int8 \n",
      " 16  APPLICATION_TYPE_T7           34299 non-null  int8 \n",
      " 17  APPLICATION_TYPE_T8           34299 non-null  int8 \n",
      " 18  APPLICATION_TYPE_T9           34299 non-null  int8 \n",
      " 19  AFFILIATION_CompanySponsored  34299 non-null  int8 \n",
      " 20  AFFILIATION_Family/Parent     34299 non-null  int8 \n",
      " 21  AFFILIATION_Independent       34299 non-null  int8 \n",
      " 22  AFFILIATION_National          34299 non-null  int8 \n",
      " 23  AFFILIATION_Other             34299 non-null  int8 \n",
      " 24  AFFILIATION_Regional          34299 non-null  int8 \n",
      " 25  USE_CASE_CommunityServ        34299 non-null  int8 \n",
      " 26  USE_CASE_Heathcare            34299 non-null  int8 \n",
      " 27  USE_CASE_Other                34299 non-null  int8 \n",
      " 28  USE_CASE_Preservation         34299 non-null  int8 \n",
      " 29  USE_CASE_ProductDev           34299 non-null  int8 \n",
      " 30  ORGANIZATION_Association      34299 non-null  int8 \n",
      " 31  ORGANIZATION_Co-operative     34299 non-null  int8 \n",
      " 32  ORGANIZATION_Corporation      34299 non-null  int8 \n",
      " 33  ORGANIZATION_Trust            34299 non-null  int8 \n",
      " 34  INCOME_AMT_0                  34299 non-null  int8 \n",
      " 35  INCOME_AMT_1-9999             34299 non-null  int8 \n",
      " 36  INCOME_AMT_10000-24999        34299 non-null  int8 \n",
      " 37  INCOME_AMT_100000-499999      34299 non-null  int8 \n",
      " 38  INCOME_AMT_10M-50M            34299 non-null  int8 \n",
      " 39  INCOME_AMT_1M-5M              34299 non-null  int8 \n",
      " 40  INCOME_AMT_25000-99999        34299 non-null  int8 \n",
      " 41  INCOME_AMT_50M+               34299 non-null  int8 \n",
      " 42  INCOME_AMT_5M-10M             34299 non-null  int8 \n",
      " 43  SPECIAL_CONSIDERATIONS_N      34299 non-null  int8 \n",
      " 44  SPECIAL_CONSIDERATIONS_Y      34299 non-null  int8 \n",
      "dtypes: int64(2), int8(43)\n",
      "memory usage: 1.9 MB\n",
      "None\n"
     ]
    }
   ],
   "source": [
    "# Define features set X by selecting all columns but IS_SUCCESSFUL\n",
    "X = encoded_df_alt1.drop(columns=\"IS_SUCCESSFUL\")\n",
    "\n",
    "# Review the features DataFrame\n",
    "print(X.info())\n"
   ]
  },
  {
   "cell_type": "code",
   "execution_count": 34,
   "metadata": {},
   "outputs": [],
   "source": [
    "# Split the preprocessed data into a training and testing dataset\n",
    "# Assign the function a random_state equal to 1\n",
    "X_train, X_test, y_train, y_test = train_test_split(X, y, random_state=1)"
   ]
  },
  {
   "cell_type": "code",
   "execution_count": 35,
   "metadata": {},
   "outputs": [],
   "source": [
    "# Create a StandardScaler instance\n",
    "scaler = StandardScaler()\n",
    "\n",
    "# Fit the scaler to the features training dataset\n",
    "X_scaler = scaler.fit(X_train)\n",
    "\n",
    "# Fit the scaler to the features training dataset\n",
    "X_train_scaled = X_scaler.transform(X_train)\n",
    "X_test_scaled = X_scaler.transform(X_test)"
   ]
  },
  {
   "cell_type": "code",
   "execution_count": 36,
   "metadata": {},
   "outputs": [
    {
     "data": {
      "text/plain": [
       "45"
      ]
     },
     "execution_count": 36,
     "metadata": {},
     "output_type": "execute_result"
    }
   ],
   "source": [
    "# Define the the number of inputs (features) to the model\n",
    "number_input_features_A1 = len(X_train.iloc[0])\n",
    "\n",
    "# Review the number of features\n",
    "number_input_features_A1"
   ]
  },
  {
   "cell_type": "code",
   "execution_count": 37,
   "metadata": {},
   "outputs": [],
   "source": [
    "# Define the number of neurons in the output layer\n",
    "number_output_neurons_A1 = 1"
   ]
  },
  {
   "cell_type": "code",
   "execution_count": 38,
   "metadata": {},
   "outputs": [
    {
     "data": {
      "text/plain": [
       "77"
      ]
     },
     "execution_count": 38,
     "metadata": {},
     "output_type": "execute_result"
    }
   ],
   "source": [
    "# Define the number of hidden nodes for the first hidden layer\n",
    "hidden_nodes_layer1_A1 = (number_input_features * 2) //3\n",
    "\n",
    "# Review the number of hidden nodes in the first layer\n",
    "hidden_nodes_layer1_A1"
   ]
  },
  {
   "cell_type": "code",
   "execution_count": 39,
   "metadata": {},
   "outputs": [
    {
     "data": {
      "text/plain": [
       "51"
      ]
     },
     "execution_count": 39,
     "metadata": {},
     "output_type": "execute_result"
    }
   ],
   "source": [
    "# Define the number of hidden nodes for the second hidden layer\n",
    "hidden_nodes_layer2_A1 = (hidden_nodes_layer1_A1 * 2) //3\n",
    "\n",
    "# Review the number of hidden nodes in the first layer\n",
    "hidden_nodes_layer2_A1"
   ]
  },
  {
   "cell_type": "code",
   "execution_count": 40,
   "metadata": {},
   "outputs": [],
   "source": [
    "# Create the Sequential model instance\n",
    "nn_A1 = Sequential()"
   ]
  },
  {
   "cell_type": "code",
   "execution_count": 41,
   "metadata": {},
   "outputs": [
    {
     "name": "stdout",
     "output_type": "stream",
     "text": [
      "Model: \"sequential_1\"\n",
      "_________________________________________________________________\n",
      " Layer (type)                Output Shape              Param #   \n",
      "=================================================================\n",
      " dense_3 (Dense)             (None, 77)                3542      \n",
      "                                                                 \n",
      " dense_4 (Dense)             (None, 51)                3978      \n",
      "                                                                 \n",
      " dense_5 (Dense)             (None, 1)                 52        \n",
      "                                                                 \n",
      "=================================================================\n",
      "Total params: 7572 (29.58 KB)\n",
      "Trainable params: 7572 (29.58 KB)\n",
      "Non-trainable params: 0 (0.00 Byte)\n",
      "_________________________________________________________________\n",
      "None\n"
     ]
    }
   ],
   "source": [
    "# First hidden layer\n",
    "nn_A1.add(Dense(\n",
    "    units=hidden_nodes_layer1_A1,\n",
    "    input_dim=number_input_features_A1,\n",
    "    activation=\"relu\"\n",
    "))\n",
    "\n",
    "# Second hidden layer\n",
    "nn_A1.add(Dense(\n",
    "    units=hidden_nodes_layer2_A1,\n",
    "    activation=\"relu\"\n",
    "))\n",
    "\n",
    "# Output layer\n",
    "nn_A1.add(Dense(\n",
    "    units=number_output_neurons,\n",
    "    activation=\"sigmoid\"\n",
    "))\n",
    "\n",
    "# Check the structure of the model\n",
    "print(nn_A1.summary())\n"
   ]
  },
  {
   "cell_type": "code",
   "execution_count": 42,
   "metadata": {},
   "outputs": [],
   "source": [
    "# Compile the Sequential model\n",
    "nn_A1.compile(\n",
    "    loss=\"binary_crossentropy\",\n",
    "    optimizer=\"adam\",\n",
    "    metrics=[\"accuracy\"]\n",
    ")\n"
   ]
  },
  {
   "cell_type": "code",
   "execution_count": 43,
   "metadata": {
    "scrolled": true
   },
   "outputs": [
    {
     "name": "stdout",
     "output_type": "stream",
     "text": [
      "Epoch 1/50\n",
      "804/804 [==============================] - 0s 455us/step - loss: 0.5823 - accuracy: 0.7179\n",
      "Epoch 2/50\n",
      "804/804 [==============================] - 0s 442us/step - loss: 0.5724 - accuracy: 0.7262\n",
      "Epoch 3/50\n",
      "804/804 [==============================] - 0s 446us/step - loss: 0.5701 - accuracy: 0.7256\n",
      "Epoch 4/50\n",
      "804/804 [==============================] - 0s 446us/step - loss: 0.5677 - accuracy: 0.7268\n",
      "Epoch 5/50\n",
      "804/804 [==============================] - 0s 458us/step - loss: 0.5672 - accuracy: 0.7264\n",
      "Epoch 6/50\n",
      "804/804 [==============================] - 0s 444us/step - loss: 0.5668 - accuracy: 0.7280\n",
      "Epoch 7/50\n",
      "804/804 [==============================] - 0s 446us/step - loss: 0.5658 - accuracy: 0.7275\n",
      "Epoch 8/50\n",
      "804/804 [==============================] - 0s 445us/step - loss: 0.5661 - accuracy: 0.7280\n",
      "Epoch 9/50\n",
      "804/804 [==============================] - 0s 447us/step - loss: 0.5654 - accuracy: 0.7283\n",
      "Epoch 10/50\n",
      "804/804 [==============================] - 0s 445us/step - loss: 0.5649 - accuracy: 0.7282\n",
      "Epoch 11/50\n",
      "804/804 [==============================] - 0s 442us/step - loss: 0.5641 - accuracy: 0.7281\n",
      "Epoch 12/50\n",
      "804/804 [==============================] - 0s 438us/step - loss: 0.5644 - accuracy: 0.7296\n",
      "Epoch 13/50\n",
      "804/804 [==============================] - 0s 446us/step - loss: 0.5643 - accuracy: 0.7291\n",
      "Epoch 14/50\n",
      "804/804 [==============================] - 0s 446us/step - loss: 0.5638 - accuracy: 0.7293\n",
      "Epoch 15/50\n",
      "804/804 [==============================] - 0s 449us/step - loss: 0.5640 - accuracy: 0.7296\n",
      "Epoch 16/50\n",
      "804/804 [==============================] - 0s 444us/step - loss: 0.5631 - accuracy: 0.7294\n",
      "Epoch 17/50\n",
      "804/804 [==============================] - 0s 443us/step - loss: 0.5633 - accuracy: 0.7297\n",
      "Epoch 18/50\n",
      "804/804 [==============================] - 0s 445us/step - loss: 0.5631 - accuracy: 0.7302\n",
      "Epoch 19/50\n",
      "804/804 [==============================] - 0s 444us/step - loss: 0.5630 - accuracy: 0.7294\n",
      "Epoch 20/50\n",
      "804/804 [==============================] - 0s 442us/step - loss: 0.5625 - accuracy: 0.7303\n",
      "Epoch 21/50\n",
      "804/804 [==============================] - 0s 445us/step - loss: 0.5626 - accuracy: 0.7289\n",
      "Epoch 22/50\n",
      "804/804 [==============================] - 0s 444us/step - loss: 0.5628 - accuracy: 0.7298\n",
      "Epoch 23/50\n",
      "804/804 [==============================] - 0s 441us/step - loss: 0.5624 - accuracy: 0.7301\n",
      "Epoch 24/50\n",
      "804/804 [==============================] - 0s 442us/step - loss: 0.5623 - accuracy: 0.7300\n",
      "Epoch 25/50\n",
      "804/804 [==============================] - 0s 449us/step - loss: 0.5621 - accuracy: 0.7304\n",
      "Epoch 26/50\n",
      "804/804 [==============================] - 0s 437us/step - loss: 0.5621 - accuracy: 0.7307\n",
      "Epoch 27/50\n",
      "804/804 [==============================] - 0s 437us/step - loss: 0.5619 - accuracy: 0.7306\n",
      "Epoch 28/50\n",
      "804/804 [==============================] - 0s 442us/step - loss: 0.5617 - accuracy: 0.7306\n",
      "Epoch 29/50\n",
      "804/804 [==============================] - 0s 446us/step - loss: 0.5623 - accuracy: 0.7300\n",
      "Epoch 30/50\n",
      "804/804 [==============================] - 0s 444us/step - loss: 0.5615 - accuracy: 0.7306\n",
      "Epoch 31/50\n",
      "804/804 [==============================] - 0s 444us/step - loss: 0.5618 - accuracy: 0.7309\n",
      "Epoch 32/50\n",
      "804/804 [==============================] - 0s 439us/step - loss: 0.5615 - accuracy: 0.7309\n",
      "Epoch 33/50\n",
      "804/804 [==============================] - 0s 439us/step - loss: 0.5613 - accuracy: 0.7303\n",
      "Epoch 34/50\n",
      "804/804 [==============================] - 0s 447us/step - loss: 0.5613 - accuracy: 0.7303\n",
      "Epoch 35/50\n",
      "804/804 [==============================] - 0s 441us/step - loss: 0.5612 - accuracy: 0.7311\n",
      "Epoch 36/50\n",
      "804/804 [==============================] - 0s 444us/step - loss: 0.5613 - accuracy: 0.7305\n",
      "Epoch 37/50\n",
      "804/804 [==============================] - 0s 442us/step - loss: 0.5612 - accuracy: 0.7306\n",
      "Epoch 38/50\n",
      "804/804 [==============================] - 0s 445us/step - loss: 0.5611 - accuracy: 0.7310\n",
      "Epoch 39/50\n",
      "804/804 [==============================] - 0s 444us/step - loss: 0.5608 - accuracy: 0.7301\n",
      "Epoch 40/50\n",
      "804/804 [==============================] - 0s 441us/step - loss: 0.5608 - accuracy: 0.7311\n",
      "Epoch 41/50\n",
      "804/804 [==============================] - 0s 443us/step - loss: 0.5607 - accuracy: 0.7308\n",
      "Epoch 42/50\n",
      "804/804 [==============================] - 0s 442us/step - loss: 0.5609 - accuracy: 0.7307\n",
      "Epoch 43/50\n",
      "804/804 [==============================] - 0s 441us/step - loss: 0.5606 - accuracy: 0.7314\n",
      "Epoch 44/50\n",
      "804/804 [==============================] - 0s 443us/step - loss: 0.5607 - accuracy: 0.7310\n",
      "Epoch 45/50\n",
      "804/804 [==============================] - 0s 447us/step - loss: 0.5602 - accuracy: 0.7311\n",
      "Epoch 46/50\n",
      "804/804 [==============================] - 0s 444us/step - loss: 0.5602 - accuracy: 0.7310\n",
      "Epoch 47/50\n",
      "804/804 [==============================] - 0s 444us/step - loss: 0.5605 - accuracy: 0.7307\n",
      "Epoch 48/50\n",
      "804/804 [==============================] - 0s 440us/step - loss: 0.5602 - accuracy: 0.7313\n",
      "Epoch 49/50\n",
      "804/804 [==============================] - 0s 456us/step - loss: 0.5599 - accuracy: 0.7317\n",
      "Epoch 50/50\n",
      "804/804 [==============================] - 0s 446us/step - loss: 0.5603 - accuracy: 0.7313\n"
     ]
    }
   ],
   "source": [
    "# Fit the model using 50 epochs and the training data\n",
    "history_A1 = nn_A1.fit(\n",
    "    X_train_scaled,\n",
    "    y_train,\n",
    "    epochs=50\n",
    ")\n"
   ]
  },
  {
   "cell_type": "code",
   "execution_count": 44,
   "metadata": {},
   "outputs": [
    {
     "name": "stdout",
     "output_type": "stream",
     "text": [
      "268/268 - 0s - loss: 0.5686 - accuracy: 0.7252 - 102ms/epoch - 380us/step\n",
      "Alternative Model 1 Results\n",
      "Loss: 0.5685825347900391, Accuracy: 0.7252478003501892\n"
     ]
    }
   ],
   "source": [
    "# Evaluate the model loss and accuracy metrics using the evaluate method and the test data\n",
    "model_loss_A1, model_accuracy_A1 = nn_A1.evaluate(X_test_scaled, y_test, verbose=2)\n",
    "\n",
    "# Save the model loss and accuracy values as variables for Alternative Model 1\n",
    "loss_alternative_model_1 = model_loss_A1\n",
    "accuracy_alternative_model_1 = model_accuracy_A1\n",
    "\n",
    "# Display the model loss and accuracy results for Alternative Model 1\n",
    "print(\"Alternative Model 1 Results\")\n",
    "print(f\"Loss: {loss_alternative_model_1}, Accuracy: {accuracy_alternative_model_1}\")\n"
   ]
  },
  {
   "cell_type": "markdown",
   "metadata": {},
   "source": [
    "#### Alternative Model 2"
   ]
  },
  {
   "cell_type": "code",
   "execution_count": 45,
   "metadata": {},
   "outputs": [],
   "source": [
    "## Add dropout layers and regularization to our model\n",
    "## Reduce the number of hidden neurons per layer\n"
   ]
  },
  {
   "cell_type": "code",
   "execution_count": 46,
   "metadata": {},
   "outputs": [
    {
     "data": {
      "text/plain": [
       "58"
      ]
     },
     "execution_count": 46,
     "metadata": {},
     "output_type": "execute_result"
    }
   ],
   "source": [
    "# Define the number of hidden nodes for the first hidden layer\n",
    "hidden_nodes_layer1_A2 = (number_input_features * 1) // 2\n",
    "\n",
    "# Review the number of hidden nodes in the first layer\n",
    "hidden_nodes_layer1_A2"
   ]
  },
  {
   "cell_type": "code",
   "execution_count": 47,
   "metadata": {},
   "outputs": [
    {
     "data": {
      "text/plain": [
       "38"
      ]
     },
     "execution_count": 47,
     "metadata": {},
     "output_type": "execute_result"
    }
   ],
   "source": [
    "# Define the number of hidden nodes for the second hidden layer\n",
    "hidden_nodes_layer2_A2 = (hidden_nodes_layer1_A1 * 1) // 2\n",
    "\n",
    "# Review the number of hidden nodes in the first layer\n",
    "hidden_nodes_layer2_A2"
   ]
  },
  {
   "cell_type": "code",
   "execution_count": 48,
   "metadata": {},
   "outputs": [],
   "source": [
    "# Create the Sequential model instance\n",
    "nn_A2 = Sequential()"
   ]
  },
  {
   "cell_type": "code",
   "execution_count": 49,
   "metadata": {},
   "outputs": [
    {
     "name": "stdout",
     "output_type": "stream",
     "text": [
      "Model: \"sequential_2\"\n",
      "_________________________________________________________________\n",
      " Layer (type)                Output Shape              Param #   \n",
      "=================================================================\n",
      " dense_6 (Dense)             (None, 58)                2668      \n",
      "                                                                 \n",
      " dropout (Dropout)           (None, 58)                0         \n",
      "                                                                 \n",
      " dense_7 (Dense)             (None, 38)                2242      \n",
      "                                                                 \n",
      " dropout_1 (Dropout)         (None, 38)                0         \n",
      "                                                                 \n",
      " dense_8 (Dense)             (None, 1)                 39        \n",
      "                                                                 \n",
      "=================================================================\n",
      "Total params: 4949 (19.33 KB)\n",
      "Trainable params: 4949 (19.33 KB)\n",
      "Non-trainable params: 0 (0.00 Byte)\n",
      "_________________________________________________________________\n",
      "None\n"
     ]
    }
   ],
   "source": [
    "# First hidden layer with dropout and L2 regularization\n",
    "nn_A2.add(Dense(\n",
    "    units=hidden_nodes_layer1_A2,\n",
    "    input_dim=number_input_features_A1,\n",
    "    activation=\"relu\",\n",
    "    kernel_regularizer=l2(0.01)\n",
    "))\n",
    "nn_A2.add(Dropout(0.5)) \n",
    "\n",
    "# Second hidden layer with dropout and L2 regularization\n",
    "nn_A2.add(Dense(\n",
    "    units=hidden_nodes_layer2_A2,\n",
    "    activation=\"relu\",\n",
    "    kernel_regularizer=l2(0.01)\n",
    "))\n",
    "nn_A2.add(Dropout(0.5))\n",
    "\n",
    "# Output layer\n",
    "nn_A2.add(Dense(\n",
    "    units=number_output_neurons,\n",
    "    activation=\"sigmoid\"\n",
    "))\n",
    "\n",
    "# Check the structure of the model\n",
    "print(nn_A2.summary())"
   ]
  },
  {
   "cell_type": "code",
   "execution_count": 50,
   "metadata": {},
   "outputs": [],
   "source": [
    "# Compile the Sequential model\n",
    "nn_A2.compile(\n",
    "    loss=\"binary_crossentropy\",\n",
    "    optimizer=\"adam\",\n",
    "    metrics=[\"accuracy\"]\n",
    ")"
   ]
  },
  {
   "cell_type": "code",
   "execution_count": 51,
   "metadata": {
    "scrolled": true
   },
   "outputs": [
    {
     "name": "stdout",
     "output_type": "stream",
     "text": [
      "Epoch 1/50\n",
      "804/804 [==============================] - 0s 447us/step - loss: 0.9020 - accuracy: 0.6867\n",
      "Epoch 2/50\n",
      "804/804 [==============================] - 0s 443us/step - loss: 0.6308 - accuracy: 0.7200\n",
      "Epoch 3/50\n",
      "804/804 [==============================] - 0s 438us/step - loss: 0.6105 - accuracy: 0.7213\n",
      "Epoch 4/50\n",
      "804/804 [==============================] - 0s 435us/step - loss: 0.6065 - accuracy: 0.7206\n",
      "Epoch 5/50\n",
      "804/804 [==============================] - 0s 435us/step - loss: 0.6052 - accuracy: 0.7211\n",
      "Epoch 6/50\n",
      "804/804 [==============================] - 0s 440us/step - loss: 0.6045 - accuracy: 0.7196\n",
      "Epoch 7/50\n",
      "804/804 [==============================] - 0s 440us/step - loss: 0.6033 - accuracy: 0.7220\n",
      "Epoch 8/50\n",
      "804/804 [==============================] - 0s 430us/step - loss: 0.6026 - accuracy: 0.7229\n",
      "Epoch 9/50\n",
      "804/804 [==============================] - 0s 437us/step - loss: 0.6026 - accuracy: 0.7207\n",
      "Epoch 10/50\n",
      "804/804 [==============================] - 0s 439us/step - loss: 0.6026 - accuracy: 0.7203\n",
      "Epoch 11/50\n",
      "804/804 [==============================] - 0s 434us/step - loss: 0.6012 - accuracy: 0.7222\n",
      "Epoch 12/50\n",
      "804/804 [==============================] - 0s 436us/step - loss: 0.6004 - accuracy: 0.7219\n",
      "Epoch 13/50\n",
      "804/804 [==============================] - 0s 436us/step - loss: 0.6012 - accuracy: 0.7206\n",
      "Epoch 14/50\n",
      "804/804 [==============================] - 0s 432us/step - loss: 0.6011 - accuracy: 0.7221\n",
      "Epoch 15/50\n",
      "804/804 [==============================] - 0s 448us/step - loss: 0.6002 - accuracy: 0.7204\n",
      "Epoch 16/50\n",
      "804/804 [==============================] - 0s 431us/step - loss: 0.6000 - accuracy: 0.7211\n",
      "Epoch 17/50\n",
      "804/804 [==============================] - 0s 433us/step - loss: 0.6005 - accuracy: 0.7210\n",
      "Epoch 18/50\n",
      "804/804 [==============================] - 0s 436us/step - loss: 0.5998 - accuracy: 0.7204\n",
      "Epoch 19/50\n",
      "804/804 [==============================] - 0s 434us/step - loss: 0.5993 - accuracy: 0.7222\n",
      "Epoch 20/50\n",
      "804/804 [==============================] - 0s 435us/step - loss: 0.6025 - accuracy: 0.7195\n",
      "Epoch 21/50\n",
      "804/804 [==============================] - 0s 432us/step - loss: 0.6012 - accuracy: 0.7202\n",
      "Epoch 22/50\n",
      "804/804 [==============================] - 0s 433us/step - loss: 0.6003 - accuracy: 0.7208\n",
      "Epoch 23/50\n",
      "804/804 [==============================] - 0s 432us/step - loss: 0.5985 - accuracy: 0.7205\n",
      "Epoch 24/50\n",
      "804/804 [==============================] - 0s 434us/step - loss: 0.6021 - accuracy: 0.7208\n",
      "Epoch 25/50\n",
      "804/804 [==============================] - 0s 431us/step - loss: 0.5999 - accuracy: 0.7201\n",
      "Epoch 26/50\n",
      "804/804 [==============================] - 0s 431us/step - loss: 0.5997 - accuracy: 0.7216\n",
      "Epoch 27/50\n",
      "804/804 [==============================] - 0s 433us/step - loss: 0.5998 - accuracy: 0.7206\n",
      "Epoch 28/50\n",
      "804/804 [==============================] - 0s 430us/step - loss: 0.6005 - accuracy: 0.7213\n",
      "Epoch 29/50\n",
      "804/804 [==============================] - 0s 429us/step - loss: 0.6005 - accuracy: 0.7196\n",
      "Epoch 30/50\n",
      "804/804 [==============================] - 0s 433us/step - loss: 0.6002 - accuracy: 0.7226\n",
      "Epoch 31/50\n",
      "804/804 [==============================] - 0s 437us/step - loss: 0.5998 - accuracy: 0.7212\n",
      "Epoch 32/50\n",
      "804/804 [==============================] - 0s 436us/step - loss: 0.5992 - accuracy: 0.7203\n",
      "Epoch 33/50\n",
      "804/804 [==============================] - 0s 432us/step - loss: 0.5995 - accuracy: 0.7213\n",
      "Epoch 34/50\n",
      "804/804 [==============================] - 0s 445us/step - loss: 0.5995 - accuracy: 0.7213\n",
      "Epoch 35/50\n",
      "804/804 [==============================] - 0s 433us/step - loss: 0.5981 - accuracy: 0.7234\n",
      "Epoch 36/50\n",
      "804/804 [==============================] - 0s 435us/step - loss: 0.5996 - accuracy: 0.7213\n",
      "Epoch 37/50\n",
      "804/804 [==============================] - 0s 434us/step - loss: 0.6008 - accuracy: 0.7208\n",
      "Epoch 38/50\n",
      "804/804 [==============================] - 0s 434us/step - loss: 0.5983 - accuracy: 0.7220\n",
      "Epoch 39/50\n",
      "804/804 [==============================] - 0s 434us/step - loss: 0.5995 - accuracy: 0.7215\n",
      "Epoch 40/50\n",
      "804/804 [==============================] - 0s 431us/step - loss: 0.5993 - accuracy: 0.7224\n",
      "Epoch 41/50\n",
      "804/804 [==============================] - 0s 436us/step - loss: 0.5978 - accuracy: 0.7205\n",
      "Epoch 42/50\n",
      "804/804 [==============================] - 0s 430us/step - loss: 0.6012 - accuracy: 0.7226\n",
      "Epoch 43/50\n",
      "804/804 [==============================] - 0s 434us/step - loss: 0.5994 - accuracy: 0.7213\n",
      "Epoch 44/50\n",
      "804/804 [==============================] - 0s 437us/step - loss: 0.5997 - accuracy: 0.7212\n",
      "Epoch 45/50\n",
      "804/804 [==============================] - 0s 431us/step - loss: 0.6001 - accuracy: 0.7223\n",
      "Epoch 46/50\n",
      "804/804 [==============================] - 0s 438us/step - loss: 0.6006 - accuracy: 0.7202\n",
      "Epoch 47/50\n",
      "804/804 [==============================] - 0s 436us/step - loss: 0.5989 - accuracy: 0.7196\n",
      "Epoch 48/50\n",
      "804/804 [==============================] - 0s 433us/step - loss: 0.5976 - accuracy: 0.7233\n",
      "Epoch 49/50\n",
      "804/804 [==============================] - 0s 435us/step - loss: 0.5996 - accuracy: 0.7220\n",
      "Epoch 50/50\n",
      "804/804 [==============================] - 0s 433us/step - loss: 0.5986 - accuracy: 0.7219\n"
     ]
    }
   ],
   "source": [
    "# Fit the model using 50 epochs and the training data\n",
    "history_A2 = nn_A2.fit(\n",
    "    X_train_scaled,\n",
    "    y_train,\n",
    "    epochs=50\n",
    ")"
   ]
  },
  {
   "cell_type": "code",
   "execution_count": 52,
   "metadata": {},
   "outputs": [
    {
     "name": "stdout",
     "output_type": "stream",
     "text": [
      "268/268 - 0s - loss: 0.5861 - accuracy: 0.7247 - 107ms/epoch - 399us/step\n",
      "Alternative Model 2 Results\n",
      "Loss: 0.5860644578933716, Accuracy: 0.7246647477149963\n"
     ]
    }
   ],
   "source": [
    "# Evaluate the model loss and accuracy metrics using the evaluate method and the test data\n",
    "model_loss_A2, model_accuracy_A2 = nn_A2.evaluate(X_test_scaled, y_test, verbose=2)\n",
    "\n",
    "# Save the model loss and accuracy values as variables for Alternative Model 2\n",
    "loss_alternative_model_2 = model_loss_A2\n",
    "accuracy_alternative_model_2 = model_accuracy_A2\n",
    "\n",
    "# Display the model loss and accuracy results for Alternative Model 2\n",
    "print(\"Alternative Model 2 Results\")\n",
    "print(f\"Loss: {loss_alternative_model_2}, Accuracy: {accuracy_alternative_model_2}\")\n"
   ]
  },
  {
   "cell_type": "markdown",
   "metadata": {},
   "source": [
    "### Model 3 ###"
   ]
  },
  {
   "cell_type": "code",
   "execution_count": 53,
   "metadata": {},
   "outputs": [],
   "source": [
    "## We're going to look at whether we have a balanced dataset, and then undersample the majority \n",
    "## No regularization or dropout"
   ]
  },
  {
   "cell_type": "code",
   "execution_count": 54,
   "metadata": {},
   "outputs": [
    {
     "name": "stdout",
     "output_type": "stream",
     "text": [
      "IS_SUCCESSFUL\n",
      "1    18261\n",
      "0    16038\n",
      "Name: count, dtype: int64\n",
      "IS_SUCCESSFUL\n",
      "1    0.532406\n",
      "0    0.467594\n",
      "Name: count, dtype: float64\n"
     ]
    }
   ],
   "source": [
    "target_counts = y.value_counts()\n",
    "print(target_counts)\n",
    "\n",
    "# Calculate the class ratios (optional)\n",
    "class_ratios = target_counts / len(y)\n",
    "print(class_ratios)"
   ]
  },
  {
   "cell_type": "code",
   "execution_count": 55,
   "metadata": {},
   "outputs": [],
   "source": [
    "## Use SMOTE to generate synthetic samples for the minority class\n",
    "\n",
    "smote = SMOTE(random_state=42)\n",
    "X_resampled, y_resampled = smote.fit_resample(X_train_scaled, y_train)\n",
    "\n"
   ]
  },
  {
   "cell_type": "code",
   "execution_count": 56,
   "metadata": {},
   "outputs": [
    {
     "name": "stdout",
     "output_type": "stream",
     "text": [
      "45\n"
     ]
    }
   ],
   "source": [
    "## Check the shape of X_resampled\n",
    "\n",
    "number_of_input_features_A3 = X_resampled.shape[1]\n",
    "print(number_of_input_features_A3)"
   ]
  },
  {
   "cell_type": "code",
   "execution_count": 57,
   "metadata": {},
   "outputs": [
    {
     "name": "stdout",
     "output_type": "stream",
     "text": [
      "Model: \"sequential_3\"\n",
      "_________________________________________________________________\n",
      " Layer (type)                Output Shape              Param #   \n",
      "=================================================================\n",
      " dense_9 (Dense)             (None, 58)                2668      \n",
      "                                                                 \n",
      " dropout_2 (Dropout)         (None, 58)                0         \n",
      "                                                                 \n",
      " dense_10 (Dense)            (None, 38)                2242      \n",
      "                                                                 \n",
      " dropout_3 (Dropout)         (None, 38)                0         \n",
      "                                                                 \n",
      " dense_11 (Dense)            (None, 1)                 39        \n",
      "                                                                 \n",
      "=================================================================\n",
      "Total params: 4949 (19.33 KB)\n",
      "Trainable params: 4949 (19.33 KB)\n",
      "Non-trainable params: 0 (0.00 Byte)\n",
      "_________________________________________________________________\n",
      "None\n"
     ]
    }
   ],
   "source": [
    "# Create the Sequential model instance\n",
    "nn_A3 = Sequential()\n",
    "\n",
    "# First hidden layer with dropout and L2 regularization\n",
    "nn_A3.add(Dense(\n",
    "    units=hidden_nodes_layer1_A2,\n",
    "    input_dim=number_of_input_features_A3,\n",
    "    activation=\"relu\",\n",
    "    kernel_regularizer=l2(0.01)\n",
    "))\n",
    "nn_A3.add(Dropout(0.5))\n",
    "\n",
    "# Second hidden layer with dropout and L2 regularization\n",
    "nn_A3.add(Dense(\n",
    "    units=hidden_nodes_layer2_A2,\n",
    "    activation=\"relu\"\n",
    "))\n",
    "nn_A3.add(Dropout(0.5))\n",
    "\n",
    "\n",
    "# Output layer\n",
    "nn_A3.add(Dense(\n",
    "    units=number_output_neurons,\n",
    "    activation=\"sigmoid\"\n",
    "))\n",
    "\n",
    "# Check the structure of the model\n",
    "print(nn_A3.summary())"
   ]
  },
  {
   "cell_type": "code",
   "execution_count": 58,
   "metadata": {},
   "outputs": [],
   "source": [
    "# Compile the model\n",
    "nn_A3.compile(loss=\"binary_crossentropy\", optimizer=\"adam\", metrics=[\"accuracy\"])\n"
   ]
  },
  {
   "cell_type": "code",
   "execution_count": 59,
   "metadata": {
    "scrolled": true
   },
   "outputs": [
    {
     "name": "stdout",
     "output_type": "stream",
     "text": [
      "Epoch 1/50\n",
      "858/858 [==============================] - 1s 446us/step - loss: 0.7593 - accuracy: 0.6835\n",
      "Epoch 2/50\n",
      "858/858 [==============================] - 0s 438us/step - loss: 0.6173 - accuracy: 0.7149\n",
      "Epoch 3/50\n",
      "858/858 [==============================] - 0s 434us/step - loss: 0.6025 - accuracy: 0.7170\n",
      "Epoch 4/50\n",
      "858/858 [==============================] - 0s 435us/step - loss: 0.5998 - accuracy: 0.7172\n",
      "Epoch 5/50\n",
      "858/858 [==============================] - 0s 436us/step - loss: 0.5962 - accuracy: 0.7198\n",
      "Epoch 6/50\n",
      "858/858 [==============================] - 0s 435us/step - loss: 0.5953 - accuracy: 0.7197\n",
      "Epoch 7/50\n",
      "858/858 [==============================] - 0s 439us/step - loss: 0.5933 - accuracy: 0.7177\n",
      "Epoch 8/50\n",
      "858/858 [==============================] - 0s 441us/step - loss: 0.5928 - accuracy: 0.7190\n",
      "Epoch 9/50\n",
      "858/858 [==============================] - 0s 436us/step - loss: 0.5942 - accuracy: 0.7177\n",
      "Epoch 10/50\n",
      "858/858 [==============================] - 0s 435us/step - loss: 0.5923 - accuracy: 0.7182\n",
      "Epoch 11/50\n",
      "858/858 [==============================] - 0s 433us/step - loss: 0.5923 - accuracy: 0.7187\n",
      "Epoch 12/50\n",
      "858/858 [==============================] - 0s 433us/step - loss: 0.5926 - accuracy: 0.7175\n",
      "Epoch 13/50\n",
      "858/858 [==============================] - 0s 430us/step - loss: 0.5912 - accuracy: 0.7193\n",
      "Epoch 14/50\n",
      "858/858 [==============================] - 0s 432us/step - loss: 0.5932 - accuracy: 0.7169\n",
      "Epoch 15/50\n",
      "858/858 [==============================] - 0s 430us/step - loss: 0.5906 - accuracy: 0.7176\n",
      "Epoch 16/50\n",
      "858/858 [==============================] - 0s 444us/step - loss: 0.5917 - accuracy: 0.7172\n",
      "Epoch 17/50\n",
      "858/858 [==============================] - 0s 435us/step - loss: 0.5913 - accuracy: 0.7189\n",
      "Epoch 18/50\n",
      "858/858 [==============================] - 0s 434us/step - loss: 0.5906 - accuracy: 0.7197\n",
      "Epoch 19/50\n",
      "858/858 [==============================] - 0s 431us/step - loss: 0.5915 - accuracy: 0.7184\n",
      "Epoch 20/50\n",
      "858/858 [==============================] - 0s 433us/step - loss: 0.5907 - accuracy: 0.7161\n",
      "Epoch 21/50\n",
      "858/858 [==============================] - 0s 430us/step - loss: 0.5927 - accuracy: 0.7153\n",
      "Epoch 22/50\n",
      "858/858 [==============================] - 0s 432us/step - loss: 0.5922 - accuracy: 0.7127\n",
      "Epoch 23/50\n",
      "858/858 [==============================] - 0s 432us/step - loss: 0.5892 - accuracy: 0.7181\n",
      "Epoch 24/50\n",
      "858/858 [==============================] - 0s 436us/step - loss: 0.5906 - accuracy: 0.7170\n",
      "Epoch 25/50\n",
      "858/858 [==============================] - 0s 430us/step - loss: 0.5916 - accuracy: 0.7164\n",
      "Epoch 26/50\n",
      "858/858 [==============================] - 0s 430us/step - loss: 0.5913 - accuracy: 0.7181\n",
      "Epoch 27/50\n",
      "858/858 [==============================] - 0s 429us/step - loss: 0.5903 - accuracy: 0.7176\n",
      "Epoch 28/50\n",
      "858/858 [==============================] - 0s 432us/step - loss: 0.5908 - accuracy: 0.7192\n",
      "Epoch 29/50\n",
      "858/858 [==============================] - 0s 432us/step - loss: 0.5908 - accuracy: 0.7182\n",
      "Epoch 30/50\n",
      "858/858 [==============================] - 0s 437us/step - loss: 0.5909 - accuracy: 0.7186\n",
      "Epoch 31/50\n",
      "858/858 [==============================] - 0s 430us/step - loss: 0.5906 - accuracy: 0.7184\n",
      "Epoch 32/50\n",
      "858/858 [==============================] - 0s 428us/step - loss: 0.5909 - accuracy: 0.7162\n",
      "Epoch 33/50\n",
      "858/858 [==============================] - 0s 433us/step - loss: 0.5922 - accuracy: 0.7181\n",
      "Epoch 34/50\n",
      "858/858 [==============================] - 0s 435us/step - loss: 0.5903 - accuracy: 0.7150\n",
      "Epoch 35/50\n",
      "858/858 [==============================] - 0s 436us/step - loss: 0.5906 - accuracy: 0.7161\n",
      "Epoch 36/50\n",
      "858/858 [==============================] - 0s 435us/step - loss: 0.5892 - accuracy: 0.7194\n",
      "Epoch 37/50\n",
      "858/858 [==============================] - 0s 434us/step - loss: 0.5896 - accuracy: 0.7182\n",
      "Epoch 38/50\n",
      "858/858 [==============================] - 0s 446us/step - loss: 0.5904 - accuracy: 0.7177\n",
      "Epoch 39/50\n",
      "858/858 [==============================] - 0s 432us/step - loss: 0.5917 - accuracy: 0.7171\n",
      "Epoch 40/50\n",
      "858/858 [==============================] - 0s 436us/step - loss: 0.5911 - accuracy: 0.7147\n",
      "Epoch 41/50\n",
      "858/858 [==============================] - 0s 432us/step - loss: 0.5903 - accuracy: 0.7189\n",
      "Epoch 42/50\n",
      "858/858 [==============================] - 0s 427us/step - loss: 0.5907 - accuracy: 0.7179\n",
      "Epoch 43/50\n",
      "858/858 [==============================] - 0s 431us/step - loss: 0.5907 - accuracy: 0.7193\n",
      "Epoch 44/50\n",
      "858/858 [==============================] - 0s 435us/step - loss: 0.5899 - accuracy: 0.7186\n",
      "Epoch 45/50\n",
      "858/858 [==============================] - 0s 438us/step - loss: 0.5895 - accuracy: 0.7190\n",
      "Epoch 46/50\n",
      "858/858 [==============================] - 0s 435us/step - loss: 0.5903 - accuracy: 0.7179\n",
      "Epoch 47/50\n",
      "858/858 [==============================] - 0s 441us/step - loss: 0.5892 - accuracy: 0.7195\n",
      "Epoch 48/50\n",
      "858/858 [==============================] - 0s 435us/step - loss: 0.5910 - accuracy: 0.7192\n",
      "Epoch 49/50\n",
      "858/858 [==============================] - 0s 432us/step - loss: 0.5910 - accuracy: 0.7181\n",
      "Epoch 50/50\n",
      "858/858 [==============================] - 0s 435us/step - loss: 0.5898 - accuracy: 0.7160\n"
     ]
    }
   ],
   "source": [
    "# Train the model using the resampled data.\n",
    "history_A3 = nn_A3.fit(X_resampled, y_resampled, epochs=50)\n"
   ]
  },
  {
   "cell_type": "code",
   "execution_count": 60,
   "metadata": {},
   "outputs": [
    {
     "name": "stdout",
     "output_type": "stream",
     "text": [
      "268/268 [==============================] - 0s 244us/step\n",
      "Test Accuracy: 0.7253644314868805\n"
     ]
    }
   ],
   "source": [
    "# Evaluate the model on the test data.\n",
    "y_pred = nn_A3.predict(X_test_scaled)\n",
    "y_pred_binary = [1 if pred > 0.5 else 0 for pred in y_pred]\n",
    "accuracy = accuracy_score(y_test, y_pred_binary)\n",
    "print(f\"Test Accuracy: {accuracy}\")\n"
   ]
  },
  {
   "cell_type": "code",
   "execution_count": 61,
   "metadata": {},
   "outputs": [
    {
     "name": "stdout",
     "output_type": "stream",
     "text": [
      "268/268 - 0s - loss: 0.5791 - accuracy: 0.7254 - 105ms/epoch - 393us/step\n",
      "Alternative Model 3 Results\n",
      "Loss: 0.5791454315185547, Accuracy: 0.7253644466400146\n"
     ]
    }
   ],
   "source": [
    "# Evaluate the model loss and accuracy metrics using the evaluate method and the test data\n",
    "model_loss_A3, model_accuracy_A3 = nn_A3.evaluate(X_test_scaled, y_test, verbose=2)\n",
    "\n",
    "# Save the model loss and accuracy values as variables for Alternative Model 3\n",
    "loss_alternative_model_3 = model_loss_A3\n",
    "accuracy_alternative_model_3 = model_accuracy_A3\n",
    "\n",
    "# Display the model loss and accuracy results for Alternative Model 3\n",
    "print(\"Alternative Model 3 Results\")\n",
    "print(f\"Loss: {loss_alternative_model_3}, Accuracy: {accuracy_alternative_model_3}\")\n"
   ]
  },
  {
   "cell_type": "markdown",
   "metadata": {},
   "source": [
    "### Step 2: After finishing your models, display the accuracy scores achieved by each model, and compare the results."
   ]
  },
  {
   "cell_type": "code",
   "execution_count": 62,
   "metadata": {},
   "outputs": [
    {
     "name": "stdout",
     "output_type": "stream",
     "text": [
      "Original Model Results\n",
      "Loss: 0.556700587272644, Accuracy: 0.7308454513549805\n"
     ]
    }
   ],
   "source": [
    "# Original Model Results\n",
    "print(\"Original Model Results\")\n",
    "print(f\"Loss: {loss_original_model}, Accuracy: {accuracy_original_model}\")\n"
   ]
  },
  {
   "cell_type": "code",
   "execution_count": 63,
   "metadata": {},
   "outputs": [
    {
     "name": "stdout",
     "output_type": "stream",
     "text": [
      "Alternative Model 1 Results\n",
      "Loss: 0.5685825347900391, Accuracy: 0.7252478003501892\n"
     ]
    }
   ],
   "source": [
    "# Results for Alternative Model 1\n",
    "print(\"Alternative Model 1 Results\")\n",
    "print(f\"Loss: {loss_alternative_model_1}, Accuracy: {accuracy_alternative_model_1}\")\n"
   ]
  },
  {
   "cell_type": "code",
   "execution_count": 64,
   "metadata": {},
   "outputs": [
    {
     "name": "stdout",
     "output_type": "stream",
     "text": [
      "Alternative Model 2 Results\n",
      "Loss: 0.5860644578933716, Accuracy: 0.7246647477149963\n"
     ]
    }
   ],
   "source": [
    "# Results for Alternative Model 2\n",
    "print(\"Alternative Model 2 Results\")\n",
    "print(f\"Loss: {loss_alternative_model_2}, Accuracy: {accuracy_alternative_model_2}\")\n"
   ]
  },
  {
   "cell_type": "code",
   "execution_count": 65,
   "metadata": {},
   "outputs": [
    {
     "name": "stdout",
     "output_type": "stream",
     "text": [
      "Alternative Model 3 Results\n",
      "Loss: 0.5791454315185547, Accuracy: 0.7253644466400146\n"
     ]
    }
   ],
   "source": [
    "# Results for Alternative Model 3\n",
    "print(\"Alternative Model 3 Results\")\n",
    "print(f\"Loss: {loss_alternative_model_3}, Accuracy: {accuracy_alternative_model_3}\")"
   ]
  },
  {
   "cell_type": "code",
   "execution_count": 74,
   "metadata": {},
   "outputs": [
    {
     "data": {
      "image/png": "[encoded data removed]",
      "text/plain": [
       "<Figure size 1200x400 with 2 Axes>"
      ]
     },
     "metadata": {},
     "output_type": "display_data"
    }
   ],
   "source": [
    "# Style settings\n",
    "sns.set(style=\"whitegrid\")  # Set the style to whitegrid for a cleaner look\n",
    "palette = sns.color_palette(\"husl\", 4)  # Use a different color palette, e.g., 'husl'\n",
    "\n",
    "# Data for original model\n",
    "epochs_original = range(1, len(history_original.history['loss']) + 1)\n",
    "loss_original = history_original.history['loss']\n",
    "accuracy_original = history_original.history['accuracy']\n",
    "\n",
    "# Data for alternative model 1\n",
    "epochs_A1 = range(1, len(history_A1.history['loss']) + 1)\n",
    "loss_A1 = history_A1.history['loss']\n",
    "accuracy_A1 = history_A1.history['accuracy']\n",
    "\n",
    "# Data for alternative model 2\n",
    "epochs_A2 = range(1, len(history_A2.history['loss']) + 1)\n",
    "loss_A2 = history_A2.history['loss']\n",
    "accuracy_A2 = history_A2.history['accuracy']\n",
    "\n",
    "# Data for alternative model 3\n",
    "epochs_A3 = range(1, len(history_A3.history['loss']) + 1)\n",
    "loss_A3 = history_A3.history['loss']\n",
    "accuracy_A3 = history_A3.history['accuracy']\n",
    "\n",
    "# Create subplots for loss and accuracy\n",
    "fig, (ax1, ax2) = plt.subplots(1, 2, figsize=(12, 4))\n",
    "\n",
    "# Plot loss\n",
    "ax1.plot(epochs_original, loss_original, label='Original Model', color=palette[0])\n",
    "ax1.plot(epochs_A1, loss_A1, label='Alternative Model 1', color=palette[1])\n",
    "ax1.plot(epochs_A2, loss_A2, label='Alternative Model 2', color=palette[2])\n",
    "ax1.plot(epochs_A3, loss_A3, label='Alternative Model 3', color=palette[3])\n",
    "ax1.set_title('Training Loss')\n",
    "ax1.set_xlabel('Epochs')\n",
    "ax1.set_ylabel('Loss')\n",
    "ax1.legend()\n",
    "\n",
    "# Plot accuracy\n",
    "ax2.plot(epochs_original, accuracy_original, label='Original Model', color=palette[0])\n",
    "ax2.plot(epochs_A1, accuracy_A1, label='Alternative Model 1', color=palette[1])\n",
    "ax2.plot(epochs_A2, accuracy_A2, label='Alternative Model 2', color=palette[2])\n",
    "ax2.plot(epochs_A3, accuracy_A3, label='Alternative Model 3', color=palette[3])\n",
    "ax2.set_title('Training Accuracy')\n",
    "ax2.set_xlabel('Epochs')\n",
    "ax2.set_ylabel('Accuracy')\n",
    "ax2.legend()\n",
    "\n",
    "# Define the export folder path (in the same directory as Model_Locale)\n",
    "export_folder = os.path.join(os.path.dirname(\"Model_Locale\"), \"Exported_Graphics\")\n",
    "\n",
    "# Ensure the export folder exists\n",
    "os.makedirs(export_folder, exist_ok=True)\n",
    "\n",
    "# Define the export file path\n",
    "export_file_path = os.path.join(export_folder, \"model_loss_accuracy.png\")\n",
    "\n",
    "# Save the figure as a .png file\n",
    "plt.savefig(export_file_path)\n",
    "\n",
    "plt.tight_layout()\n",
    "plt.show()\n"
   ]
  },
  {
   "cell_type": "markdown",
   "metadata": {},
   "source": [
    "### Step 3: Save each of your alternative models as an HDF5 file.\n"
   ]
  },
  {
   "cell_type": "code",
   "execution_count": 68,
   "metadata": {},
   "outputs": [
    {
     "name": "stderr",
     "output_type": "stream",
     "text": [
      "/Users/darcy5d/miniforge3/envs/tensor/lib/python3.8/site-packages/keras/src/engine/training.py:3000: UserWarning: You are saving your model as an HDF5 file via `model.save()`. This file format is considered legacy. We recommend using instead the native Keras format, e.g. `model.save('my_model.keras')`.\n",
      "  saving_api.save_model(\n"
     ]
    }
   ],
   "source": [
    "# Specify the directory path where the models will be saved\n",
    "model_folder = \"Model_Locale\"\n",
    "\n",
    "# Set the file path for the first alternative model\n",
    "file_path_A1 = os.path.join(model_folder, \"model_alternative_1.h5\")\n",
    "\n",
    "# Export your first alternative model to an HDF5 file\n",
    "nn_A1.save(file_path_A1)\n",
    "\n",
    "# Set the file path for the second alternative model\n",
    "file_path_A2 = os.path.join(model_folder, \"model_alternative_2.h5\")\n",
    "\n",
    "# Export your second alternative model to an HDF5 file\n",
    "nn_A2.save(file_path_A2)\n",
    "\n",
    "# Set the file path for the third alternative model\n",
    "file_path_A3 = os.path.join(model_folder, \"model_alternative_3.h5\")\n",
    "\n",
    "# Export your third alternative model to an HDF5 file\n",
    "nn_A3.save(file_path_A3)"
   ]
  },
  {
   "cell_type": "code",
   "execution_count": 69,
   "metadata": {},
   "outputs": [
    {
     "name": "stdout",
     "output_type": "stream",
     "text": [
      "Model folder 'Model_Locale' exists.\n",
      "'AlphabetSoup.h5' is present in the folder.\n",
      "'model_alternative_1.h5' is present in the folder.\n",
      "'model_alternative_2.h5' is present in the folder.\n",
      "'model_alternative_3.h5' is present in the folder.\n"
     ]
    }
   ],
   "source": [
    "## Checking that the models were exported\n",
    "\n",
    "# Define the folder where the model files are expected to be\n",
    "model_folder = \"Model_Locale\"\n",
    "\n",
    "# List of model filenames\n",
    "model_filenames = [\n",
    "    \"AlphabetSoup.h5\",  # Original model\n",
    "    \"model_alternative_1.h5\",\n",
    "    \"model_alternative_2.h5\",\n",
    "    \"model_alternative_3.h5\",\n",
    "]\n",
    "\n",
    "# Check if the folder exists\n",
    "if os.path.exists(model_folder):\n",
    "    print(f\"Model folder '{model_folder}' exists.\")\n",
    "    \n",
    "    # List files in the folder\n",
    "    files_in_folder = os.listdir(model_folder)\n",
    "    \n",
    "    # Check if each model file exists in the folder\n",
    "    for model_filename in model_filenames:\n",
    "        if model_filename in files_in_folder:\n",
    "            print(f\"'{model_filename}' is present in the folder.\")\n",
    "        else:\n",
    "            print(f\"'{model_filename}' is NOT present in the folder.\")\n",
    "else:\n",
    "    print(f\"Model folder '{model_folder}' does NOT exist.\")\n"
   ]
  },
  {
   "cell_type": "code",
   "execution_count": null,
   "metadata": {},
   "outputs": [],
   "source": []
  }
 ],
 "metadata": {
  "kernelspec": {
   "display_name": "Python 3 (ipykernel)",
   "language": "python",
   "name": "python3"
  },
  "language_info": {
   "codemirror_mode": {
    "name": "ipython",
    "version": 3
   },
   "file_extension": ".py",
   "mimetype": "text/x-python",
   "name": "python",
   "nbconvert_exporter": "python",
   "pygments_lexer": "ipython3",
   "version": "3.8.17"
  }
 },
 "nbformat": 4,
 "nbformat_minor": 4
}
