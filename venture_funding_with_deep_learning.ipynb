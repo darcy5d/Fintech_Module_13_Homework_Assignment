{
 "cells": [
  {
   "cell_type": "markdown",
   "metadata": {},
   "source": [
    "# Venture Funding with Deep Learning\n",
    "\n",
    "You work as a risk management associate at Alphabet Soup, a venture capital firm. Alphabet Soup’s business team receives many funding applications from startups every day. This team has asked you to help them create a model that predicts whether applicants will be successful if funded by Alphabet Soup.\n",
    "\n",
    "The business team has given you a CSV containing more than 34,000 organizations that have received funding from Alphabet Soup over the years. With your knowledge of machine learning and neural networks, you decide to use the features in the provided dataset to create a binary classifier model that will predict whether an applicant will become a successful business. The CSV file contains a variety of information about these businesses, including whether or not they ultimately became successful.\n",
    "\n",
    "## Instructions:\n",
    "\n",
    "The steps for this challenge are broken out into the following sections:\n",
    "\n",
    "* Prepare the data for use on a neural network model.\n",
    "\n",
    "* Compile and evaluate a binary classification model using a neural network.\n",
    "\n",
    "* Optimize the neural network model.\n",
    "\n",
    "### Prepare the Data for Use on a Neural Network Model \n",
    "\n",
    "Using your knowledge of Pandas and scikit-learn’s `StandardScaler()`, preprocess the dataset so that you can use it to compile and evaluate the neural network model later.\n",
    "\n",
    "Open the starter code file, and complete the following data preparation steps:\n",
    "\n",
    "1. Read the `applicants_data.csv` file into a Pandas DataFrame. Review the DataFrame, looking for categorical variables that will need to be encoded, as well as columns that could eventually define your features and target variables.   \n",
    "\n",
    "2. Drop the “EIN” (Employer Identification Number) and “NAME” columns from the DataFrame, because they are not relevant to the binary classification model.\n",
    " \n",
    "3. Encode the dataset’s categorical variables using `OneHotEncoder`, and then place the encoded variables into a new DataFrame.\n",
    "\n",
    "4. Add the original DataFrame’s numerical variables to the DataFrame containing the encoded variables.\n",
    "\n",
    "> **Note** To complete this step, you will employ the Pandas `concat()` function that was introduced earlier in this course. \n",
    "\n",
    "5. Using the preprocessed data, create the features (`X`) and target (`y`) datasets. The target dataset should be defined by the preprocessed DataFrame column “IS_SUCCESSFUL”. The remaining columns should define the features dataset. \n",
    "\n",
    "6. Split the features and target sets into training and testing datasets.\n",
    "\n",
    "7. Use scikit-learn's `StandardScaler` to scale the features data.\n",
    "\n",
    "### Compile and Evaluate a Binary Classification Model Using a Neural Network\n",
    "\n",
    "Use your knowledge of TensorFlow to design a binary classification deep neural network model. This model should use the dataset’s features to predict whether an Alphabet Soup&ndash;funded startup will be successful based on the features in the dataset. Consider the number of inputs before determining the number of layers that your model will contain or the number of neurons on each layer. Then, compile and fit your model. Finally, evaluate your binary classification model to calculate the model’s loss and accuracy. \n",
    " \n",
    "To do so, complete the following steps:\n",
    "\n",
    "1. Create a deep neural network by assigning the number of input features, the number of layers, and the number of neurons on each layer using Tensorflow’s Keras.\n",
    "\n",
    "> **Hint** You can start with a two-layer deep neural network model that uses the `relu` activation function for both layers.\n",
    "\n",
    "2. Compile and fit the model using the `binary_crossentropy` loss function, the `adam` optimizer, and the `accuracy` evaluation metric.\n",
    "\n",
    "> **Hint** When fitting the model, start with a small number of epochs, such as 20, 50, or 100.\n",
    "\n",
    "3. Evaluate the model using the test data to determine the model’s loss and accuracy.\n",
    "\n",
    "4. Save and export your model to an HDF5 file, and name the file `AlphabetSoup.h5`. \n",
    "\n",
    "### Optimize the Neural Network Model\n",
    "\n",
    "Using your knowledge of TensorFlow and Keras, optimize your model to improve the model's accuracy. Even if you do not successfully achieve a better accuracy, you'll need to demonstrate at least two attempts to optimize the model. You can include these attempts in your existing notebook. Or, you can make copies of the starter notebook in the same folder, rename them, and code each model optimization in a new notebook. \n",
    "\n",
    "> **Note** You will not lose points if your model does not achieve a high accuracy, as long as you make at least two attempts to optimize the model.\n",
    "\n",
    "To do so, complete the following steps:\n",
    "\n",
    "1. Define at least three new deep neural network models (the original plus 2 optimization attempts). With each, try to improve on your first model’s predictive accuracy.\n",
    "\n",
    "> **Rewind** Recall that perfect accuracy has a value of 1, so accuracy improves as its value moves closer to 1. To optimize your model for a predictive accuracy as close to 1 as possible, you can use any or all of the following techniques:\n",
    ">\n",
    "> * Adjust the input data by dropping different features columns to ensure that no variables or outliers confuse the model.\n",
    ">\n",
    "> * Add more neurons (nodes) to a hidden layer.\n",
    ">\n",
    "> * Add more hidden layers.\n",
    ">\n",
    "> * Use different activation functions for the hidden layers.\n",
    ">\n",
    "> * Add to or reduce the number of epochs in the training regimen.\n",
    "\n",
    "2. After finishing your models, display the accuracy scores achieved by each model, and compare the results.\n",
    "\n",
    "3. Save each of your models as an HDF5 file.\n"
   ]
  },
  {
   "cell_type": "code",
   "execution_count": 1,
   "metadata": {},
   "outputs": [],
   "source": [
    "# Imports\n",
    "\n",
    "#Data handling\n",
    "import pandas as pd\n",
    "from pathlib import Path\n",
    "\n",
    "import numpy as np\n",
    "\n",
    "#TensorFlow and Keras for neural networks\n",
    "import tensorflow as tf\n",
    "from tensorflow.keras.layers import Dense\n",
    "from tensorflow.keras.models import Sequential\n",
    "\n",
    "#Scikit-Learn for data preprocessing and splitting\n",
    "from sklearn.model_selection import train_test_split\n",
    "from sklearn.preprocessing import StandardScaler,OneHotEncoder"
   ]
  },
  {
   "cell_type": "markdown",
   "metadata": {},
   "source": [
    "---\n",
    "\n",
    "## Prepare the data to be used on a neural network model"
   ]
  },
  {
   "cell_type": "markdown",
   "metadata": {},
   "source": [
    "### Step 1: Read the `applicants_data.csv` file into a Pandas DataFrame. Review the DataFrame, looking for categorical variables that will need to be encoded, as well as columns that could eventually define your features and target variables.  \n"
   ]
  },
  {
   "cell_type": "code",
   "execution_count": 2,
   "metadata": {},
   "outputs": [
    {
     "name": "stdout",
     "output_type": "stream",
     "text": [
      "        EIN                                      NAME APPLICATION_TYPE  \\\n",
      "0  10520599              BLUE KNIGHTS MOTORCYCLE CLUB              T10   \n",
      "1  10531628    AMERICAN CHESAPEAKE CLUB CHARITABLE TR               T3   \n",
      "2  10547893        ST CLOUD PROFESSIONAL FIREFIGHTERS               T5   \n",
      "3  10553066            SOUTHSIDE ATHLETIC ASSOCIATION               T3   \n",
      "4  10556103  GENETIC RESEARCH INSTITUTE OF THE DESERT               T3   \n",
      "\n",
      "        AFFILIATION CLASSIFICATION      USE_CASE  ORGANIZATION  STATUS  \\\n",
      "0       Independent          C1000    ProductDev   Association       1   \n",
      "1       Independent          C2000  Preservation  Co-operative       1   \n",
      "2  CompanySponsored          C3000    ProductDev   Association       1   \n",
      "3  CompanySponsored          C2000  Preservation         Trust       1   \n",
      "4       Independent          C1000     Heathcare         Trust       1   \n",
      "\n",
      "      INCOME_AMT SPECIAL_CONSIDERATIONS  ASK_AMT  IS_SUCCESSFUL  \n",
      "0              0                      N     5000              1  \n",
      "1         1-9999                      N   108590              1  \n",
      "2              0                      N     5000              0  \n",
      "3    10000-24999                      N     6692              1  \n",
      "4  100000-499999                      N   142590              1  \n"
     ]
    }
   ],
   "source": [
    "# Read the applicants_data.csv file from the Resources folder into a Pandas DataFrame\n",
    "\n",
    "csv_data = Path(\"./Resources/applicants_data.csv\")\n",
    "\n",
    "applicant_data_df = pd.read_csv(csv_data)\n",
    "\n",
    "# Review the DataFrame\n",
    "print(applicant_data_df.head())\n"
   ]
  },
  {
   "cell_type": "code",
   "execution_count": 3,
   "metadata": {},
   "outputs": [
    {
     "name": "stdout",
     "output_type": "stream",
     "text": [
      "<class 'pandas.core.frame.DataFrame'>\n",
      "RangeIndex: 34299 entries, 0 to 34298\n",
      "Data columns (total 12 columns):\n",
      " #   Column                  Non-Null Count  Dtype \n",
      "---  ------                  --------------  ----- \n",
      " 0   EIN                     34299 non-null  int64 \n",
      " 1   NAME                    34299 non-null  object\n",
      " 2   APPLICATION_TYPE        34299 non-null  object\n",
      " 3   AFFILIATION             34299 non-null  object\n",
      " 4   CLASSIFICATION          34299 non-null  object\n",
      " 5   USE_CASE                34299 non-null  object\n",
      " 6   ORGANIZATION            34299 non-null  object\n",
      " 7   STATUS                  34299 non-null  int64 \n",
      " 8   INCOME_AMT              34299 non-null  object\n",
      " 9   SPECIAL_CONSIDERATIONS  34299 non-null  object\n",
      " 10  ASK_AMT                 34299 non-null  int64 \n",
      " 11  IS_SUCCESSFUL           34299 non-null  int64 \n",
      "dtypes: int64(4), object(8)\n",
      "memory usage: 3.1+ MB\n",
      "None\n"
     ]
    }
   ],
   "source": [
    "# Review the data types associated with the columns\n",
    "print(applicant_data_df.info())\n"
   ]
  },
  {
   "cell_type": "markdown",
   "metadata": {},
   "source": [
    "### Step 2: Drop the “EIN” (Employer Identification Number) and “NAME” columns from the DataFrame, because they are not relevant to the binary classification model."
   ]
  },
  {
   "cell_type": "code",
   "execution_count": 4,
   "metadata": {},
   "outputs": [
    {
     "name": "stdout",
     "output_type": "stream",
     "text": [
      "  APPLICATION_TYPE       AFFILIATION CLASSIFICATION      USE_CASE  \\\n",
      "0              T10       Independent          C1000    ProductDev   \n",
      "1               T3       Independent          C2000  Preservation   \n",
      "2               T5  CompanySponsored          C3000    ProductDev   \n",
      "3               T3  CompanySponsored          C2000  Preservation   \n",
      "4               T3       Independent          C1000     Heathcare   \n",
      "\n",
      "   ORGANIZATION  STATUS     INCOME_AMT SPECIAL_CONSIDERATIONS  ASK_AMT  \\\n",
      "0   Association       1              0                      N     5000   \n",
      "1  Co-operative       1         1-9999                      N   108590   \n",
      "2   Association       1              0                      N     5000   \n",
      "3         Trust       1    10000-24999                      N     6692   \n",
      "4         Trust       1  100000-499999                      N   142590   \n",
      "\n",
      "   IS_SUCCESSFUL  \n",
      "0              1  \n",
      "1              1  \n",
      "2              0  \n",
      "3              1  \n",
      "4              1  \n"
     ]
    }
   ],
   "source": [
    "# Drop the 'EIN' and 'NAME' columns from the DataFrame\n",
    "applicant_data_df = applicant_data_df.drop(columns=[\"EIN\", \"NAME\"])\n",
    "\n",
    "# Review the DataFrame\n",
    "print(applicant_data_df.head())\n"
   ]
  },
  {
   "cell_type": "code",
   "execution_count": 5,
   "metadata": {},
   "outputs": [
    {
     "name": "stdout",
     "output_type": "stream",
     "text": [
      "\n",
      " APPLICATION_TYPE: 17 unique values.\n",
      "\n",
      " AFFILIATION: 6 unique values.\n",
      "\n",
      " CLASSIFICATION: 71 unique values.\n",
      "\n",
      " USE_CASE: 5 unique values.\n",
      "\n",
      " ORGANIZATION: 4 unique values.\n",
      "\n",
      " INCOME_AMT: 9 unique values.\n",
      "\n",
      " SPECIAL_CONSIDERATIONS: 2 unique values.\n"
     ]
    }
   ],
   "source": [
    "# Find out the number of unique values for each column\n",
    "for column in applicant_data_df.select_dtypes(include=['object']).columns:\n",
    "    print(\"\\n\",f\"{column}: {applicant_data_df[column].nunique()} unique values.\")\n"
   ]
  },
  {
   "cell_type": "markdown",
   "metadata": {},
   "source": [
    "### Step 3: Encode the dataset’s categorical variables using `OneHotEncoder`, and then place the encoded variables into a new DataFrame."
   ]
  },
  {
   "cell_type": "code",
   "execution_count": 6,
   "metadata": {},
   "outputs": [
    {
     "name": "stdout",
     "output_type": "stream",
     "text": [
      "['APPLICATION_TYPE', 'AFFILIATION', 'CLASSIFICATION', 'USE_CASE', 'ORGANIZATION', 'INCOME_AMT', 'SPECIAL_CONSIDERATIONS']\n"
     ]
    }
   ],
   "source": [
    "# Create a list of categorical variables \n",
    "categorical_variables = [\"APPLICATION_TYPE\", \"AFFILIATION\", \"CLASSIFICATION\", \"USE_CASE\",\n",
    "                         \"ORGANIZATION\", \"INCOME_AMT\", \"SPECIAL_CONSIDERATIONS\"]\n",
    "                         \n",
    "# Display the categorical variables list\n",
    "print(categorical_variables)\n"
   ]
  },
  {
   "cell_type": "code",
   "execution_count": 7,
   "metadata": {},
   "outputs": [],
   "source": [
    "# Create a OneHotEncoder instance\n",
    "enc = OneHotEncoder(sparse_output=False)\n"
   ]
  },
  {
   "cell_type": "code",
   "execution_count": 8,
   "metadata": {},
   "outputs": [],
   "source": [
    "# Encode the categorcal variables using OneHotEncoder\n",
    "\n",
    "##We are making a new dataframe with the column names of categorical variables from the applicant data DF.\n",
    "##Then OneHotEncoder is doign a job blasting out the dataframe with the dummy variables\n",
    "\n",
    "encoded_data = enc.fit_transform(applicant_data_df[categorical_variables])\n"
   ]
  },
  {
   "cell_type": "code",
   "execution_count": 9,
   "metadata": {},
   "outputs": [
    {
     "name": "stdout",
     "output_type": "stream",
     "text": [
      "   APPLICATION_TYPE_T10  APPLICATION_TYPE_T12  APPLICATION_TYPE_T13  \\\n",
      "0                     1                     0                     0   \n",
      "1                     0                     0                     0   \n",
      "2                     0                     0                     0   \n",
      "3                     0                     0                     0   \n",
      "4                     0                     0                     0   \n",
      "\n",
      "   APPLICATION_TYPE_T14  APPLICATION_TYPE_T15  APPLICATION_TYPE_T17  \\\n",
      "0                     0                     0                     0   \n",
      "1                     0                     0                     0   \n",
      "2                     0                     0                     0   \n",
      "3                     0                     0                     0   \n",
      "4                     0                     0                     0   \n",
      "\n",
      "   APPLICATION_TYPE_T19  APPLICATION_TYPE_T2  APPLICATION_TYPE_T25  \\\n",
      "0                     0                    0                     0   \n",
      "1                     0                    0                     0   \n",
      "2                     0                    0                     0   \n",
      "3                     0                    0                     0   \n",
      "4                     0                    0                     0   \n",
      "\n",
      "   APPLICATION_TYPE_T29  ...  INCOME_AMT_1-9999  INCOME_AMT_10000-24999  \\\n",
      "0                     0  ...                  0                       0   \n",
      "1                     0  ...                  1                       0   \n",
      "2                     0  ...                  0                       0   \n",
      "3                     0  ...                  0                       1   \n",
      "4                     0  ...                  0                       0   \n",
      "\n",
      "   INCOME_AMT_100000-499999  INCOME_AMT_10M-50M  INCOME_AMT_1M-5M  \\\n",
      "0                         0                   0                 0   \n",
      "1                         0                   0                 0   \n",
      "2                         0                   0                 0   \n",
      "3                         0                   0                 0   \n",
      "4                         1                   0                 0   \n",
      "\n",
      "   INCOME_AMT_25000-99999  INCOME_AMT_50M+  INCOME_AMT_5M-10M  \\\n",
      "0                       0                0                  0   \n",
      "1                       0                0                  0   \n",
      "2                       0                0                  0   \n",
      "3                       0                0                  0   \n",
      "4                       0                0                  0   \n",
      "\n",
      "   SPECIAL_CONSIDERATIONS_N  SPECIAL_CONSIDERATIONS_Y  \n",
      "0                         1                         0  \n",
      "1                         1                         0  \n",
      "2                         1                         0  \n",
      "3                         1                         0  \n",
      "4                         1                         0  \n",
      "\n",
      "[5 rows x 114 columns]\n"
     ]
    }
   ],
   "source": [
    "# Create a DataFrame with the encoded variables\n",
    "## Using int8 to save memory\n",
    "\n",
    "encoded_df = pd.DataFrame(\n",
    "    encoded_data,\n",
    "    columns=enc.get_feature_names_out(categorical_variables)\n",
    ").astype(np.int8)\n",
    "\n",
    "# Review the DataFrame\n",
    "print(encoded_df.head())"
   ]
  },
  {
   "cell_type": "markdown",
   "metadata": {},
   "source": [
    "### Step 4: Add the original DataFrame’s numerical variables to the DataFrame containing the encoded variables.\n",
    "\n",
    "> **Note** To complete this step, you will employ the Pandas `concat()` function that was introduced earlier in this course. "
   ]
  },
  {
   "cell_type": "code",
   "execution_count": 10,
   "metadata": {},
   "outputs": [
    {
     "name": "stdout",
     "output_type": "stream",
     "text": [
      "   STATUS  ASK_AMT  IS_SUCCESSFUL  APPLICATION_TYPE_T10  APPLICATION_TYPE_T12  \\\n",
      "0       1     5000              1                     1                     0   \n",
      "1       1   108590              1                     0                     0   \n",
      "2       1     5000              0                     0                     0   \n",
      "3       1     6692              1                     0                     0   \n",
      "4       1   142590              1                     0                     0   \n",
      "\n",
      "   APPLICATION_TYPE_T13  APPLICATION_TYPE_T14  APPLICATION_TYPE_T15  \\\n",
      "0                     0                     0                     0   \n",
      "1                     0                     0                     0   \n",
      "2                     0                     0                     0   \n",
      "3                     0                     0                     0   \n",
      "4                     0                     0                     0   \n",
      "\n",
      "   APPLICATION_TYPE_T17  APPLICATION_TYPE_T19  ...  INCOME_AMT_1-9999  \\\n",
      "0                     0                     0  ...                  0   \n",
      "1                     0                     0  ...                  1   \n",
      "2                     0                     0  ...                  0   \n",
      "3                     0                     0  ...                  0   \n",
      "4                     0                     0  ...                  0   \n",
      "\n",
      "   INCOME_AMT_10000-24999  INCOME_AMT_100000-499999  INCOME_AMT_10M-50M  \\\n",
      "0                       0                         0                   0   \n",
      "1                       0                         0                   0   \n",
      "2                       0                         0                   0   \n",
      "3                       1                         0                   0   \n",
      "4                       0                         1                   0   \n",
      "\n",
      "   INCOME_AMT_1M-5M  INCOME_AMT_25000-99999  INCOME_AMT_50M+  \\\n",
      "0                 0                       0                0   \n",
      "1                 0                       0                0   \n",
      "2                 0                       0                0   \n",
      "3                 0                       0                0   \n",
      "4                 0                       0                0   \n",
      "\n",
      "   INCOME_AMT_5M-10M  SPECIAL_CONSIDERATIONS_N  SPECIAL_CONSIDERATIONS_Y  \n",
      "0                  0                         1                         0  \n",
      "1                  0                         1                         0  \n",
      "2                  0                         1                         0  \n",
      "3                  0                         1                         0  \n",
      "4                  0                         1                         0  \n",
      "\n",
      "[5 rows x 117 columns]\n"
     ]
    }
   ],
   "source": [
    "# Add the numerical variables from the original DataFrame to the one-hot encoding DataFrame\n",
    "## drop columns that are already contained in categorical_variables DataFrame\n",
    "\n",
    "encoded_df = pd.concat(\n",
    "    [\n",
    "    applicant_data_df.drop(columns=categorical_variables),\n",
    "    encoded_df\n",
    "    ],\n",
    "    axis=1\n",
    ")\n",
    "\n",
    "# Review the Dataframe\n",
    "print(encoded_df.head())\n"
   ]
  },
  {
   "cell_type": "markdown",
   "metadata": {},
   "source": [
    "### Step 5: Using the preprocessed data, create the features (`X`) and target (`y`) datasets. The target dataset should be defined by the preprocessed DataFrame column “IS_SUCCESSFUL”. The remaining columns should define the features dataset. \n",
    "\n"
   ]
  },
  {
   "cell_type": "code",
   "execution_count": 18,
   "metadata": {},
   "outputs": [
    {
     "name": "stdout",
     "output_type": "stream",
     "text": [
      "0    1\n",
      "1    1\n",
      "2    0\n",
      "3    1\n",
      "4    1\n",
      "Name: IS_SUCCESSFUL, dtype: int64\n"
     ]
    }
   ],
   "source": [
    "# Define the target set y using the IS_SUCCESSFUL column\n",
    "y = encoded_df[\"IS_SUCCESSFUL\"]\n",
    "\n",
    "# Display a sample of y\n",
    "print(y.head())\n"
   ]
  },
  {
   "cell_type": "code",
   "execution_count": 19,
   "metadata": {},
   "outputs": [
    {
     "name": "stdout",
     "output_type": "stream",
     "text": [
      "<class 'pandas.core.frame.DataFrame'>\n",
      "RangeIndex: 34299 entries, 0 to 34298\n",
      "Columns: 116 entries, STATUS to SPECIAL_CONSIDERATIONS_Y\n",
      "dtypes: int64(2), int8(114)\n",
      "memory usage: 4.3 MB\n",
      "None\n"
     ]
    }
   ],
   "source": [
    "# Define features set X by selecting all columns but IS_SUCCESSFUL\n",
    "X = encoded_df.drop(columns=\"IS_SUCCESSFUL\")\n",
    "\n",
    "# Review the features DataFrame\n",
    "print(X.info())\n"
   ]
  },
  {
   "cell_type": "markdown",
   "metadata": {},
   "source": [
    "### Step 6: Split the features and target sets into training and testing datasets.\n"
   ]
  },
  {
   "cell_type": "code",
   "execution_count": 20,
   "metadata": {},
   "outputs": [],
   "source": [
    "# Split the preprocessed data into a training and testing dataset\n",
    "# Assign the function a random_state equal to 1\n",
    "X_train, X_test, y_train, y_test = train_test_split(X, y, random_state=1)\n"
   ]
  },
  {
   "cell_type": "markdown",
   "metadata": {},
   "source": [
    "### Step 7: Use scikit-learn's `StandardScaler` to scale the features data."
   ]
  },
  {
   "cell_type": "code",
   "execution_count": 21,
   "metadata": {},
   "outputs": [],
   "source": [
    "# Create a StandardScaler instance\n",
    "scaler = StandardScaler()\n",
    "\n",
    "# Fit the scaler to the features training dataset\n",
    "X_scaler = scaler.fit(X_train)\n",
    "\n",
    "# Fit the scaler to the features training dataset\n",
    "X_train_scaled = X_scaler.transform(X_train)\n",
    "X_test_scaled = X_scaler.transform(X_test)\n"
   ]
  },
  {
   "cell_type": "markdown",
   "metadata": {},
   "source": [
    "---\n",
    "\n",
    "## Compile and Evaluate a Binary Classification Model Using a Neural Network"
   ]
  },
  {
   "cell_type": "markdown",
   "metadata": {},
   "source": [
    "### Step 1: Create a deep neural network by assigning the number of input features, the number of layers, and the number of neurons on each layer using Tensorflow’s Keras.\n",
    "\n",
    "> **Hint** You can start with a two-layer deep neural network model that uses the `relu` activation function for both layers.\n"
   ]
  },
  {
   "cell_type": "code",
   "execution_count": 23,
   "metadata": {},
   "outputs": [
    {
     "name": "stdout",
     "output_type": "stream",
     "text": [
      "Number of input features: 116\n"
     ]
    }
   ],
   "source": [
    "# Define the the number of inputs (features) to the model\n",
    "\n",
    "## We just look at the 'X' matrix for this information\n",
    "\n",
    "number_input_features = X.shape[1]\n",
    "\n",
    "# Review the number of features\n",
    "print(f\"Number of input features: {number_input_features}\")\n"
   ]
  },
  {
   "cell_type": "code",
   "execution_count": 26,
   "metadata": {},
   "outputs": [],
   "source": [
    "# Define the number of neurons in the output layer\n",
    "## binary classification, so we want only a 1 or 0\n",
    "\n",
    "number_output_neurons = 1"
   ]
  },
  {
   "cell_type": "code",
   "execution_count": 28,
   "metadata": {},
   "outputs": [
    {
     "data": {
      "text/plain": [
       "77"
      ]
     },
     "execution_count": 28,
     "metadata": {},
     "output_type": "execute_result"
    }
   ],
   "source": [
    "## Using 2/3 rule as suggestion for number of hidden neurons..\n",
    "## Sandaya Krishnan, 'How do determine the number of layers and neurons in the hidden layer?', 09/09/2021\n",
    "## Link <https://medium.com/geekculture/introduction-to-neural-network-2f8b8221fbd3>\n",
    "\n",
    "# Define the number of hidden nodes for the first hidden layer\n",
    "hidden_nodes_layer1 =  (number_input_features * 2) // 3\n",
    "\n",
    "# Review the number hidden nodes in the first layer\n",
    "hidden_nodes_layer1\n"
   ]
  },
  {
   "cell_type": "code",
   "execution_count": 29,
   "metadata": {},
   "outputs": [
    {
     "data": {
      "text/plain": [
       "51"
      ]
     },
     "execution_count": 29,
     "metadata": {},
     "output_type": "execute_result"
    }
   ],
   "source": [
    "# Define the number of hidden nodes for the second hidden layer\n",
    "hidden_nodes_layer2 =  (hidden_nodes_layer1 * 2) // 3\n",
    "\n",
    "# Review the number hidden nodes in the second layer\n",
    "hidden_nodes_layer2\n"
   ]
  },
  {
   "cell_type": "code",
   "execution_count": 30,
   "metadata": {},
   "outputs": [],
   "source": [
    "# Create the Sequential model instance\n",
    "nn = Sequential()\n"
   ]
  },
  {
   "cell_type": "code",
   "execution_count": 32,
   "metadata": {},
   "outputs": [],
   "source": [
    "# Add the first hidden layer\n",
    "nn.add(Dense(\n",
    "    units=hidden_nodes_layer1,\n",
    "    input_dim=number_input_features,\n",
    "    activation=\"relu\"\n",
    "))\n"
   ]
  },
  {
   "cell_type": "code",
   "execution_count": 33,
   "metadata": {},
   "outputs": [],
   "source": [
    "# Add the second hidden layer\n",
    "nn.add(Dense(\n",
    "    units=hidden_nodes_layer2,\n",
    "    activation=\"relu\"\n",
    "))\n"
   ]
  },
  {
   "cell_type": "code",
   "execution_count": null,
   "metadata": {},
   "outputs": [],
   "source": [
    "# Add the output layer to the model specifying the number of output neurons and activation function\n",
    "## we use the sigmoid function to squish everything to 0 or 1\n",
    "nn.add(Dense(\n",
    "    units=number_output_neurons,\n",
    "    activation=\"sigmoid\"\n",
    "))\n"
   ]
  },
  {
   "cell_type": "code",
   "execution_count": 35,
   "metadata": {},
   "outputs": [
    {
     "name": "stdout",
     "output_type": "stream",
     "text": [
      "Model: \"sequential\"\n",
      "_________________________________________________________________\n",
      " Layer (type)                Output Shape              Param #   \n",
      "=================================================================\n",
      " dense (Dense)               (None, 77)                9009      \n",
      "                                                                 \n",
      " dense_1 (Dense)             (None, 51)                3978      \n",
      "                                                                 \n",
      "=================================================================\n",
      "Total params: 12987 (50.73 KB)\n",
      "Trainable params: 12987 (50.73 KB)\n",
      "Non-trainable params: 0 (0.00 Byte)\n",
      "_________________________________________________________________\n",
      "None\n"
     ]
    }
   ],
   "source": [
    "# Display the Sequential model summary\n",
    "print(nn.summary())\n"
   ]
  },
  {
   "cell_type": "markdown",
   "metadata": {},
   "source": [
    "### Step 2: Compile and fit the model using the `binary_crossentropy` loss function, the `adam` optimizer, and the `accuracy` evaluation metric.\n"
   ]
  },
  {
   "cell_type": "code",
   "execution_count": 37,
   "metadata": {},
   "outputs": [],
   "source": [
    "# Compile the Sequential model\n",
    "nn.compile(\n",
    "    loss=\"binary_crossentropy\",\n",
    "    optimizer=\"adam\",\n",
    "    metrics=[\"accuracy\"]\n",
    ")\n"
   ]
  },
  {
   "cell_type": "code",
   "execution_count": 38,
   "metadata": {},
   "outputs": [
    {
     "name": "stdout",
     "output_type": "stream",
     "text": [
      "Epoch 1/50\n",
      "804/804 [==============================] - 0s 421us/step - loss: 1.4444 - accuracy: 0.0117\n",
      "Epoch 2/50\n",
      "804/804 [==============================] - 0s 423us/step - loss: 0.9482 - accuracy: 0.0056\n",
      "Epoch 3/50\n",
      "804/804 [==============================] - 0s 430us/step - loss: 0.8739 - accuracy: 0.0027\n",
      "Epoch 4/50\n",
      "804/804 [==============================] - 0s 421us/step - loss: 0.8347 - accuracy: 0.0048\n",
      "Epoch 5/50\n",
      "804/804 [==============================] - 0s 430us/step - loss: 0.7797 - accuracy: 0.0171\n",
      "Epoch 6/50\n",
      "804/804 [==============================] - 0s 421us/step - loss: 0.7655 - accuracy: 0.0239\n",
      "Epoch 7/50\n",
      "804/804 [==============================] - 0s 420us/step - loss: 0.7433 - accuracy: 0.0020\n",
      "Epoch 8/50\n",
      "804/804 [==============================] - 0s 424us/step - loss: 0.7262 - accuracy: 0.0029\n",
      "Epoch 9/50\n",
      "804/804 [==============================] - 0s 433us/step - loss: 0.7160 - accuracy: 0.0105\n",
      "Epoch 10/50\n",
      "804/804 [==============================] - 0s 420us/step - loss: 0.7038 - accuracy: 0.0126\n",
      "Epoch 11/50\n",
      "804/804 [==============================] - 0s 420us/step - loss: 0.6859 - accuracy: 0.0047\n",
      "Epoch 12/50\n",
      "804/804 [==============================] - 0s 422us/step - loss: 0.6806 - accuracy: 0.0059\n",
      "Epoch 13/50\n",
      "804/804 [==============================] - 0s 434us/step - loss: 0.6757 - accuracy: 0.0104\n",
      "Epoch 14/50\n",
      "804/804 [==============================] - 0s 423us/step - loss: 0.6738 - accuracy: 0.0041\n",
      "Epoch 15/50\n",
      "804/804 [==============================] - 0s 420us/step - loss: 0.6642 - accuracy: 0.0042\n",
      "Epoch 16/50\n",
      "804/804 [==============================] - 0s 425us/step - loss: 0.6611 - accuracy: 0.0053\n",
      "Epoch 17/50\n",
      "804/804 [==============================] - 0s 433us/step - loss: 0.6571 - accuracy: 0.0087\n",
      "Epoch 18/50\n",
      "804/804 [==============================] - 0s 421us/step - loss: 0.6607 - accuracy: 0.0098\n",
      "Epoch 19/50\n",
      "804/804 [==============================] - 0s 420us/step - loss: 0.6589 - accuracy: 0.0166\n",
      "Epoch 20/50\n",
      "804/804 [==============================] - 0s 423us/step - loss: 0.6484 - accuracy: 0.0033\n",
      "Epoch 21/50\n",
      "804/804 [==============================] - 0s 430us/step - loss: 0.6442 - accuracy: 0.0146\n",
      "Epoch 22/50\n",
      "804/804 [==============================] - 0s 420us/step - loss: 0.6474 - accuracy: 0.0098\n",
      "Epoch 23/50\n",
      "804/804 [==============================] - 0s 421us/step - loss: 0.6434 - accuracy: 0.0077\n",
      "Epoch 24/50\n",
      "804/804 [==============================] - 0s 422us/step - loss: 0.6359 - accuracy: 0.0185\n",
      "Epoch 25/50\n",
      "804/804 [==============================] - 0s 433us/step - loss: 0.6353 - accuracy: 0.0131\n",
      "Epoch 26/50\n",
      "804/804 [==============================] - 0s 417us/step - loss: 0.6270 - accuracy: 0.0155\n",
      "Epoch 27/50\n",
      "804/804 [==============================] - 0s 421us/step - loss: 0.6298 - accuracy: 0.0290\n",
      "Epoch 28/50\n",
      "804/804 [==============================] - 0s 419us/step - loss: 0.6346 - accuracy: 0.0066\n",
      "Epoch 29/50\n",
      "804/804 [==============================] - 0s 435us/step - loss: 0.6267 - accuracy: 0.0052\n",
      "Epoch 30/50\n",
      "804/804 [==============================] - 0s 418us/step - loss: 0.6226 - accuracy: 0.0063\n",
      "Epoch 31/50\n",
      "804/804 [==============================] - 0s 420us/step - loss: 0.6234 - accuracy: 0.0058\n",
      "Epoch 32/50\n",
      "804/804 [==============================] - 0s 419us/step - loss: 0.6152 - accuracy: 0.0116\n",
      "Epoch 33/50\n",
      "804/804 [==============================] - 0s 431us/step - loss: 0.6092 - accuracy: 0.0014\n",
      "Epoch 34/50\n",
      "804/804 [==============================] - 0s 418us/step - loss: 0.6096 - accuracy: 0.0031\n",
      "Epoch 35/50\n",
      "804/804 [==============================] - 0s 421us/step - loss: 0.6089 - accuracy: 0.0022\n",
      "Epoch 36/50\n",
      "804/804 [==============================] - 0s 433us/step - loss: 0.6078 - accuracy: 0.0157\n",
      "Epoch 37/50\n",
      "804/804 [==============================] - 0s 427us/step - loss: 0.6073 - accuracy: 0.0166\n",
      "Epoch 38/50\n",
      "804/804 [==============================] - 0s 421us/step - loss: 0.6076 - accuracy: 0.0072\n",
      "Epoch 39/50\n",
      "804/804 [==============================] - 0s 423us/step - loss: 0.6043 - accuracy: 0.0142\n",
      "Epoch 40/50\n",
      "804/804 [==============================] - 0s 431us/step - loss: 0.6036 - accuracy: 0.0759\n",
      "Epoch 41/50\n",
      "804/804 [==============================] - 0s 420us/step - loss: 0.6041 - accuracy: 0.0260\n",
      "Epoch 42/50\n",
      "804/804 [==============================] - 0s 419us/step - loss: 0.6086 - accuracy: 0.0132\n",
      "Epoch 43/50\n",
      "804/804 [==============================] - 0s 422us/step - loss: 0.6046 - accuracy: 0.0141\n",
      "Epoch 44/50\n",
      "804/804 [==============================] - 0s 441us/step - loss: 0.6035 - accuracy: 0.0079\n",
      "Epoch 45/50\n",
      "804/804 [==============================] - 0s 424us/step - loss: 0.6007 - accuracy: 0.0094\n",
      "Epoch 46/50\n",
      "804/804 [==============================] - 0s 422us/step - loss: 0.5990 - accuracy: 0.0037\n",
      "Epoch 47/50\n",
      "804/804 [==============================] - 0s 431us/step - loss: 0.6005 - accuracy: 0.0079\n",
      "Epoch 48/50\n",
      "804/804 [==============================] - 0s 422us/step - loss: 0.6067 - accuracy: 0.0157\n",
      "Epoch 49/50\n",
      "804/804 [==============================] - 0s 419us/step - loss: 0.6020 - accuracy: 0.0141\n",
      "Epoch 50/50\n",
      "804/804 [==============================] - 0s 421us/step - loss: 0.5996 - accuracy: 0.0083\n"
     ]
    }
   ],
   "source": [
    "# Fit the model using 50 epochs and the training data\n",
    "fit_model = nn.fit(\n",
    "    X_train_scaled,\n",
    "    y_train,\n",
    "    epochs=50\n",
    ")"
   ]
  },
  {
   "cell_type": "markdown",
   "metadata": {},
   "source": [
    "### Step 3: Evaluate the model using the test data to determine the model’s loss and accuracy.\n"
   ]
  },
  {
   "cell_type": "code",
   "execution_count": null,
   "metadata": {},
   "outputs": [],
   "source": [
    "# Evaluate the model loss and accuracy metrics using the evaluate method and the test data\n",
    "model_loss, model_accuracy = # YOUR CODE HERE\n",
    "\n",
    "# Display the model loss and accuracy results\n",
    "print(f\"Loss: {model_loss}, Accuracy: {model_accuracy}\")"
   ]
  },
  {
   "cell_type": "markdown",
   "metadata": {},
   "source": [
    "### Step 4: Save and export your model to an HDF5 file, and name the file `AlphabetSoup.h5`. \n"
   ]
  },
  {
   "cell_type": "code",
   "execution_count": null,
   "metadata": {},
   "outputs": [],
   "source": [
    "# Set the model's file path\n",
    "file_path = # YOUR CODE HERE\n",
    "\n",
    "# Export your model to a HDF5 file\n",
    "# YOUR CODE HERE\n"
   ]
  },
  {
   "cell_type": "markdown",
   "metadata": {},
   "source": [
    "---\n",
    "\n",
    "## Optimize the neural network model\n"
   ]
  },
  {
   "cell_type": "markdown",
   "metadata": {},
   "source": [
    "### Step 1: Define at least three new deep neural network models (resulting in the original plus 3 optimization attempts). With each, try to improve on your first model’s predictive accuracy.\n",
    "\n",
    "> **Rewind** Recall that perfect accuracy has a value of 1, so accuracy improves as its value moves closer to 1. To optimize your model for a predictive accuracy as close to 1 as possible, you can use any or all of the following techniques:\n",
    ">\n",
    "> * Adjust the input data by dropping different features columns to ensure that no variables or outliers confuse the model.\n",
    ">\n",
    "> * Add more neurons (nodes) to a hidden layer.\n",
    ">\n",
    "> * Add more hidden layers.\n",
    ">\n",
    "> * Use different activation functions for the hidden layers.\n",
    ">\n",
    "> * Add to or reduce the number of epochs in the training regimen.\n"
   ]
  },
  {
   "cell_type": "markdown",
   "metadata": {},
   "source": [
    "### Alternative Model 1"
   ]
  },
  {
   "cell_type": "code",
   "execution_count": null,
   "metadata": {},
   "outputs": [],
   "source": [
    "# Define the the number of inputs (features) to the model\n",
    "number_input_features = len(X_train.iloc[0])\n",
    "\n",
    "# Review the number of features\n",
    "number_input_features"
   ]
  },
  {
   "cell_type": "code",
   "execution_count": null,
   "metadata": {},
   "outputs": [],
   "source": [
    "# Define the number of neurons in the output layer\n",
    "number_output_neurons_A1 = # YOUR CODE HERE"
   ]
  },
  {
   "cell_type": "code",
   "execution_count": null,
   "metadata": {},
   "outputs": [],
   "source": [
    "# Define the number of hidden nodes for the first hidden layer\n",
    "hidden_nodes_layer1_A1 = # YOUR CODE HERE\n",
    "\n",
    "# Review the number of hidden nodes in the first layer\n",
    "hidden_nodes_layer1_A1"
   ]
  },
  {
   "cell_type": "code",
   "execution_count": null,
   "metadata": {},
   "outputs": [],
   "source": [
    "# Create the Sequential model instance\n",
    "nn_A1 = # YOUR CODE HERE"
   ]
  },
  {
   "cell_type": "code",
   "execution_count": null,
   "metadata": {},
   "outputs": [],
   "source": [
    "# First hidden layer\n",
    "# YOUR CODE HERE\n",
    "\n",
    "\n",
    "# Output layer\n",
    "# YOUR CODE HERE\n",
    "\n",
    "\n",
    "# Check the structure of the model\n",
    "# YOUR CODE HERE"
   ]
  },
  {
   "cell_type": "code",
   "execution_count": null,
   "metadata": {},
   "outputs": [],
   "source": [
    "# Compile the Sequential model\n",
    "nn_A1.# YOUR CODE HERE\n"
   ]
  },
  {
   "cell_type": "code",
   "execution_count": null,
   "metadata": {},
   "outputs": [],
   "source": [
    "# Fit the model using 50 epochs and the training data\n",
    "fit_model_A1 = # YOUR CODE HERE\n"
   ]
  },
  {
   "cell_type": "markdown",
   "metadata": {},
   "source": [
    "#### Alternative Model 2"
   ]
  },
  {
   "cell_type": "code",
   "execution_count": null,
   "metadata": {},
   "outputs": [],
   "source": [
    "# Define the the number of inputs (features) to the model\n",
    "number_input_features = len(X_train.iloc[0])\n",
    "\n",
    "# Review the number of features\n",
    "number_input_features"
   ]
  },
  {
   "cell_type": "code",
   "execution_count": null,
   "metadata": {},
   "outputs": [],
   "source": [
    "# Define the number of neurons in the output layer\n",
    "number_output_neurons_A2 = # YOUR CODE HERE"
   ]
  },
  {
   "cell_type": "code",
   "execution_count": null,
   "metadata": {},
   "outputs": [],
   "source": [
    "# Define the number of hidden nodes for the first hidden layer\n",
    "hidden_nodes_layer1_A2 = # YOUR CODE HERE\n",
    "\n",
    "# Review the number of hidden nodes in the first layer\n",
    "hidden_nodes_layer1_A2"
   ]
  },
  {
   "cell_type": "code",
   "execution_count": null,
   "metadata": {},
   "outputs": [],
   "source": [
    "# Create the Sequential model instance\n",
    "nn_A2 = # YOUR CODE HERE"
   ]
  },
  {
   "cell_type": "code",
   "execution_count": null,
   "metadata": {},
   "outputs": [],
   "source": [
    "# First hidden layer\n",
    "# YOUR CODE HERE\n",
    "\n",
    "# Output layer\n",
    "# YOUR CODE HERE\n",
    "\n",
    "# Check the structure of the model\n",
    "# YOUR CODE HERE\n"
   ]
  },
  {
   "cell_type": "code",
   "execution_count": null,
   "metadata": {},
   "outputs": [],
   "source": [
    "# Compile the model\n",
    "# YOUR CODE HERE\n"
   ]
  },
  {
   "cell_type": "code",
   "execution_count": null,
   "metadata": {},
   "outputs": [],
   "source": [
    "# Fit the model\n",
    "# YOUR CODE HERE\n"
   ]
  },
  {
   "cell_type": "markdown",
   "metadata": {},
   "source": [
    "### Step 2: After finishing your models, display the accuracy scores achieved by each model, and compare the results."
   ]
  },
  {
   "cell_type": "code",
   "execution_count": null,
   "metadata": {},
   "outputs": [],
   "source": [
    "print(\"Original Model Results\")\n",
    "\n",
    "# Evaluate the model loss and accuracy metrics using the evaluate method and the test data\n",
    "model_loss, model_accuracy = # YOUR CODE HERE\n",
    "\n",
    "# Display the model loss and accuracy results\n",
    "print(f\"Loss: {model_loss}, Accuracy: {model_accuracy}\")"
   ]
  },
  {
   "cell_type": "code",
   "execution_count": null,
   "metadata": {},
   "outputs": [],
   "source": [
    "print(\"Alternative Model 1 Results\")\n",
    "\n",
    "# Evaluate the model loss and accuracy metrics using the evaluate method and the test data\n",
    "model_loss, model_accuracy =# YOUR CODE HERE\n",
    "\n",
    "# Display the model loss and accuracy results\n",
    "print(f\"Loss: {model_loss}, Accuracy: {model_accuracy}\")"
   ]
  },
  {
   "cell_type": "code",
   "execution_count": null,
   "metadata": {},
   "outputs": [],
   "source": [
    "print(\"Alternative Model 2 Results\")\n",
    "\n",
    "# Evaluate the model loss and accuracy metrics using the evaluate method and the test data\n",
    "model_loss, model_accuracy = # YOUR CODE HERE\n",
    "\n",
    "# Display the model loss and accuracy results\n",
    "print(f\"Loss: {model_loss}, Accuracy: {model_accuracy}\")"
   ]
  },
  {
   "cell_type": "markdown",
   "metadata": {},
   "source": [
    "### Step 3: Save each of your alternative models as an HDF5 file.\n"
   ]
  },
  {
   "cell_type": "code",
   "execution_count": null,
   "metadata": {},
   "outputs": [],
   "source": [
    "# Set the file path for the first alternative model\n",
    "file_path = # YOUR CODE HERE\n",
    "\n",
    "# Export your model to a HDF5 file\n",
    "# YOUR CODE HERE\n"
   ]
  },
  {
   "cell_type": "code",
   "execution_count": null,
   "metadata": {},
   "outputs": [],
   "source": [
    "# Set the file path for the second alternative model\n",
    "file_path = # YOUR CODE HERE\n",
    "\n",
    "# Export your model to a HDF5 file\n",
    "# YOUR CODE HERE\n"
   ]
  },
  {
   "cell_type": "code",
   "execution_count": null,
   "metadata": {},
   "outputs": [],
   "source": []
  }
 ],
 "metadata": {
  "kernelspec": {
   "display_name": "Python 3 (ipykernel)",
   "language": "python",
   "name": "python3"
  },
  "language_info": {
   "codemirror_mode": {
    "name": "ipython",
    "version": 3
   },
   "file_extension": ".py",
   "mimetype": "text/x-python",
   "name": "python",
   "nbconvert_exporter": "python",
   "pygments_lexer": "ipython3",
   "version": "3.8.17"
  }
 },
 "nbformat": 4,
 "nbformat_minor": 4
}
